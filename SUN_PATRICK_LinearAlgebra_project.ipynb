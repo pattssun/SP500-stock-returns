{
 "cells": [
  {
   "cell_type": "markdown",
   "metadata": {
    "id": "voFZ0_puo3LK"
   },
   "source": [
    "Please follow the instructions carefully. Write all your code in a `Code` cell, and your explanations in a `Markdown` cell. Make sure that your code compiles correctly either by selecting a given cell and clicking the `Run` button, or by hitting `shift`+`enter` or `shift`+`return`."
   ]
  },
  {
   "cell_type": "markdown",
   "metadata": {
    "id": "MGS0XEWoL9er"
   },
   "source": [
    "### 1. Import `numpy`, `numpy.linalg`, `matplotlib.pyplot`, and `pandas`. Use the appropriate aliases when importing these modules."
   ]
  },
  {
   "cell_type": "code",
   "execution_count": 144,
   "metadata": {
    "id": "KheDr_zDL9es"
   },
   "outputs": [],
   "source": [
    "# code for question 1\n",
    "import numpy as np\n",
    "import numpy.linalg as npla\n",
    "import matplotlib.pyplot as plt\n",
    "import pandas as pd"
   ]
  },
  {
   "cell_type": "markdown",
   "metadata": {
    "id": "BnraRRm8o3Ld"
   },
   "source": [
    "### 2. Load the data from the file named `data_stock_returns.csv` into a `DatFrame` called `returns`. The file `data_stock_returns.csv` contains daily returns of a number of stocks selected from the S&P 500 universe. The rows of the csv file represent the returns over a number of days, and the columns represent individual stocks labeled by their NYSE ticker symbol, e.g., Apple stock is labeled `AAPL`."
   ]
  },
  {
   "cell_type": "code",
   "execution_count": 145,
   "metadata": {
    "id": "Ml7wr6GSo3Le"
   },
   "outputs": [],
   "source": [
    "# code for question 2\n",
    "returns = pd.read_csv(\"data_stock_returns.csv\")"
   ]
  },
  {
   "cell_type": "markdown",
   "metadata": {
    "id": "pFJXi4GXo3Li"
   },
   "source": [
    "### 3. View the `head` of the `returns` `DataFrame`"
   ]
  },
  {
   "cell_type": "code",
   "execution_count": 146,
   "metadata": {
    "id": "nILjqx_Do3Lk"
   },
   "outputs": [
    {
     "data": {
      "text/html": [
       "<div>\n",
       "<style scoped>\n",
       "    .dataframe tbody tr th:only-of-type {\n",
       "        vertical-align: middle;\n",
       "    }\n",
       "\n",
       "    .dataframe tbody tr th {\n",
       "        vertical-align: top;\n",
       "    }\n",
       "\n",
       "    .dataframe thead th {\n",
       "        text-align: right;\n",
       "    }\n",
       "</style>\n",
       "<table border=\"1\" class=\"dataframe\">\n",
       "  <thead>\n",
       "    <tr style=\"text-align: right;\">\n",
       "      <th></th>\n",
       "      <th>Date</th>\n",
       "      <th>ATVI</th>\n",
       "      <th>CHTR</th>\n",
       "      <th>CMCSA</th>\n",
       "      <th>CTL</th>\n",
       "      <th>DIS</th>\n",
       "      <th>DISCA</th>\n",
       "      <th>DISCK</th>\n",
       "      <th>DISH</th>\n",
       "      <th>EA</th>\n",
       "      <th>...</th>\n",
       "      <th>NEE</th>\n",
       "      <th>NI</th>\n",
       "      <th>NRG</th>\n",
       "      <th>PEG</th>\n",
       "      <th>PNW</th>\n",
       "      <th>PPL</th>\n",
       "      <th>SO</th>\n",
       "      <th>SRE</th>\n",
       "      <th>WEC</th>\n",
       "      <th>XEL</th>\n",
       "    </tr>\n",
       "  </thead>\n",
       "  <tbody>\n",
       "    <tr>\n",
       "      <th>0</th>\n",
       "      <td>2019-01-02</td>\n",
       "      <td>0.009829</td>\n",
       "      <td>0.010542</td>\n",
       "      <td>0.009354</td>\n",
       "      <td>0.018961</td>\n",
       "      <td>-0.006221</td>\n",
       "      <td>0.043115</td>\n",
       "      <td>0.031979</td>\n",
       "      <td>0.035795</td>\n",
       "      <td>0.018333</td>\n",
       "      <td>...</td>\n",
       "      <td>-0.023222</td>\n",
       "      <td>-0.011107</td>\n",
       "      <td>-0.038352</td>\n",
       "      <td>-0.023718</td>\n",
       "      <td>-0.027728</td>\n",
       "      <td>-0.007796</td>\n",
       "      <td>-0.004564</td>\n",
       "      <td>-0.013306</td>\n",
       "      <td>-0.024556</td>\n",
       "      <td>-0.021542</td>\n",
       "    </tr>\n",
       "    <tr>\n",
       "      <th>1</th>\n",
       "      <td>2019-01-03</td>\n",
       "      <td>-0.036155</td>\n",
       "      <td>-0.001703</td>\n",
       "      <td>0.007825</td>\n",
       "      <td>0.004524</td>\n",
       "      <td>-0.024525</td>\n",
       "      <td>-0.005824</td>\n",
       "      <td>0.002515</td>\n",
       "      <td>0.020651</td>\n",
       "      <td>-0.020871</td>\n",
       "      <td>...</td>\n",
       "      <td>-0.002476</td>\n",
       "      <td>0.001196</td>\n",
       "      <td>-0.009491</td>\n",
       "      <td>-0.000197</td>\n",
       "      <td>0.010085</td>\n",
       "      <td>-0.003564</td>\n",
       "      <td>0.014082</td>\n",
       "      <td>0.004579</td>\n",
       "      <td>0.002660</td>\n",
       "      <td>-0.003948</td>\n",
       "    </tr>\n",
       "    <tr>\n",
       "      <th>2</th>\n",
       "      <td>2019-01-04</td>\n",
       "      <td>0.039127</td>\n",
       "      <td>0.051651</td>\n",
       "      <td>0.033218</td>\n",
       "      <td>0.027974</td>\n",
       "      <td>0.030381</td>\n",
       "      <td>0.017754</td>\n",
       "      <td>0.019072</td>\n",
       "      <td>0.068034</td>\n",
       "      <td>0.070034</td>\n",
       "      <td>...</td>\n",
       "      <td>0.018249</td>\n",
       "      <td>0.017378</td>\n",
       "      <td>0.033601</td>\n",
       "      <td>0.010764</td>\n",
       "      <td>0.012229</td>\n",
       "      <td>0.030242</td>\n",
       "      <td>0.008310</td>\n",
       "      <td>0.029491</td>\n",
       "      <td>0.007352</td>\n",
       "      <td>0.009738</td>\n",
       "    </tr>\n",
       "    <tr>\n",
       "      <th>3</th>\n",
       "      <td>2019-01-07</td>\n",
       "      <td>0.027806</td>\n",
       "      <td>-0.004204</td>\n",
       "      <td>-0.010668</td>\n",
       "      <td>0.021706</td>\n",
       "      <td>0.008630</td>\n",
       "      <td>0.014810</td>\n",
       "      <td>0.014271</td>\n",
       "      <td>0.011252</td>\n",
       "      <td>0.036862</td>\n",
       "      <td>...</td>\n",
       "      <td>-0.001450</td>\n",
       "      <td>0.005467</td>\n",
       "      <td>0.009179</td>\n",
       "      <td>0.002139</td>\n",
       "      <td>-0.001890</td>\n",
       "      <td>0.001384</td>\n",
       "      <td>-0.002239</td>\n",
       "      <td>-0.000181</td>\n",
       "      <td>-0.004552</td>\n",
       "      <td>-0.004339</td>\n",
       "    </tr>\n",
       "    <tr>\n",
       "      <th>4</th>\n",
       "      <td>2019-01-08</td>\n",
       "      <td>0.029859</td>\n",
       "      <td>-0.002524</td>\n",
       "      <td>0.008152</td>\n",
       "      <td>0.025441</td>\n",
       "      <td>0.007748</td>\n",
       "      <td>0.026410</td>\n",
       "      <td>0.020041</td>\n",
       "      <td>0.002793</td>\n",
       "      <td>0.016194</td>\n",
       "      <td>...</td>\n",
       "      <td>0.007287</td>\n",
       "      <td>0.018519</td>\n",
       "      <td>0.015114</td>\n",
       "      <td>0.003878</td>\n",
       "      <td>0.014904</td>\n",
       "      <td>0.013059</td>\n",
       "      <td>0.028071</td>\n",
       "      <td>0.027595</td>\n",
       "      <td>0.010249</td>\n",
       "      <td>0.011530</td>\n",
       "    </tr>\n",
       "  </tbody>\n",
       "</table>\n",
       "<p>5 rows × 489 columns</p>\n",
       "</div>"
      ],
      "text/plain": [
       "         Date      ATVI      CHTR     CMCSA       CTL       DIS     DISCA  \\\n",
       "0  2019-01-02  0.009829  0.010542  0.009354  0.018961 -0.006221  0.043115   \n",
       "1  2019-01-03 -0.036155 -0.001703  0.007825  0.004524 -0.024525 -0.005824   \n",
       "2  2019-01-04  0.039127  0.051651  0.033218  0.027974  0.030381  0.017754   \n",
       "3  2019-01-07  0.027806 -0.004204 -0.010668  0.021706  0.008630  0.014810   \n",
       "4  2019-01-08  0.029859 -0.002524  0.008152  0.025441  0.007748  0.026410   \n",
       "\n",
       "      DISCK      DISH        EA  ...       NEE        NI       NRG       PEG  \\\n",
       "0  0.031979  0.035795  0.018333  ... -0.023222 -0.011107 -0.038352 -0.023718   \n",
       "1  0.002515  0.020651 -0.020871  ... -0.002476  0.001196 -0.009491 -0.000197   \n",
       "2  0.019072  0.068034  0.070034  ...  0.018249  0.017378  0.033601  0.010764   \n",
       "3  0.014271  0.011252  0.036862  ... -0.001450  0.005467  0.009179  0.002139   \n",
       "4  0.020041  0.002793  0.016194  ...  0.007287  0.018519  0.015114  0.003878   \n",
       "\n",
       "        PNW       PPL        SO       SRE       WEC       XEL  \n",
       "0 -0.027728 -0.007796 -0.004564 -0.013306 -0.024556 -0.021542  \n",
       "1  0.010085 -0.003564  0.014082  0.004579  0.002660 -0.003948  \n",
       "2  0.012229  0.030242  0.008310  0.029491  0.007352  0.009738  \n",
       "3 -0.001890  0.001384 -0.002239 -0.000181 -0.004552 -0.004339  \n",
       "4  0.014904  0.013059  0.028071  0.027595  0.010249  0.011530  \n",
       "\n",
       "[5 rows x 489 columns]"
      ]
     },
     "execution_count": 146,
     "metadata": {},
     "output_type": "execute_result"
    }
   ],
   "source": [
    "# code for question 3\n",
    "returns.head()"
   ]
  },
  {
   "cell_type": "markdown",
   "metadata": {
    "id": "-e82wrNwo3Lm"
   },
   "source": [
    "### 4. View the `tail` of the `returns` `DataFrame`"
   ]
  },
  {
   "cell_type": "code",
   "execution_count": 147,
   "metadata": {
    "id": "9bxfMnXLo3Lo"
   },
   "outputs": [
    {
     "data": {
      "text/html": [
       "<div>\n",
       "<style scoped>\n",
       "    .dataframe tbody tr th:only-of-type {\n",
       "        vertical-align: middle;\n",
       "    }\n",
       "\n",
       "    .dataframe tbody tr th {\n",
       "        vertical-align: top;\n",
       "    }\n",
       "\n",
       "    .dataframe thead th {\n",
       "        text-align: right;\n",
       "    }\n",
       "</style>\n",
       "<table border=\"1\" class=\"dataframe\">\n",
       "  <thead>\n",
       "    <tr style=\"text-align: right;\">\n",
       "      <th></th>\n",
       "      <th>Date</th>\n",
       "      <th>ATVI</th>\n",
       "      <th>CHTR</th>\n",
       "      <th>CMCSA</th>\n",
       "      <th>CTL</th>\n",
       "      <th>DIS</th>\n",
       "      <th>DISCA</th>\n",
       "      <th>DISCK</th>\n",
       "      <th>DISH</th>\n",
       "      <th>EA</th>\n",
       "      <th>...</th>\n",
       "      <th>NEE</th>\n",
       "      <th>NI</th>\n",
       "      <th>NRG</th>\n",
       "      <th>PEG</th>\n",
       "      <th>PNW</th>\n",
       "      <th>PPL</th>\n",
       "      <th>SO</th>\n",
       "      <th>SRE</th>\n",
       "      <th>WEC</th>\n",
       "      <th>XEL</th>\n",
       "    </tr>\n",
       "  </thead>\n",
       "  <tbody>\n",
       "    <tr>\n",
       "      <th>247</th>\n",
       "      <td>2019-12-24</td>\n",
       "      <td>-0.001359</td>\n",
       "      <td>0.000291</td>\n",
       "      <td>0.009703</td>\n",
       "      <td>-0.002277</td>\n",
       "      <td>0.004207</td>\n",
       "      <td>0.003943</td>\n",
       "      <td>0.007496</td>\n",
       "      <td>0.001956</td>\n",
       "      <td>0.007026</td>\n",
       "      <td>...</td>\n",
       "      <td>0.007219</td>\n",
       "      <td>-0.000729</td>\n",
       "      <td>-0.004752</td>\n",
       "      <td>-0.001537</td>\n",
       "      <td>-0.001350</td>\n",
       "      <td>-0.001122</td>\n",
       "      <td>-0.002057</td>\n",
       "      <td>0.000598</td>\n",
       "      <td>0.001529</td>\n",
       "      <td>0.003905</td>\n",
       "    </tr>\n",
       "    <tr>\n",
       "      <th>248</th>\n",
       "      <td>2019-12-26</td>\n",
       "      <td>0.001359</td>\n",
       "      <td>0.010077</td>\n",
       "      <td>0.009833</td>\n",
       "      <td>-0.003807</td>\n",
       "      <td>0.002818</td>\n",
       "      <td>0.007540</td>\n",
       "      <td>0.004212</td>\n",
       "      <td>0.008617</td>\n",
       "      <td>-0.000369</td>\n",
       "      <td>...</td>\n",
       "      <td>0.006011</td>\n",
       "      <td>-0.002921</td>\n",
       "      <td>-0.016684</td>\n",
       "      <td>0.002049</td>\n",
       "      <td>0.001012</td>\n",
       "      <td>-0.002530</td>\n",
       "      <td>0.000633</td>\n",
       "      <td>0.006418</td>\n",
       "      <td>0.001418</td>\n",
       "      <td>-0.001114</td>\n",
       "    </tr>\n",
       "    <tr>\n",
       "      <th>249</th>\n",
       "      <td>2019-12-27</td>\n",
       "      <td>0.005081</td>\n",
       "      <td>-0.004209</td>\n",
       "      <td>0.002887</td>\n",
       "      <td>0.023371</td>\n",
       "      <td>0.000343</td>\n",
       "      <td>-0.004517</td>\n",
       "      <td>-0.005511</td>\n",
       "      <td>-0.004994</td>\n",
       "      <td>-0.000738</td>\n",
       "      <td>...</td>\n",
       "      <td>0.002271</td>\n",
       "      <td>-0.002196</td>\n",
       "      <td>0.000000</td>\n",
       "      <td>-0.000853</td>\n",
       "      <td>-0.001125</td>\n",
       "      <td>-0.000281</td>\n",
       "      <td>0.004580</td>\n",
       "      <td>0.001446</td>\n",
       "      <td>0.006085</td>\n",
       "      <td>0.005242</td>\n",
       "    </tr>\n",
       "    <tr>\n",
       "      <th>250</th>\n",
       "      <td>2019-12-30</td>\n",
       "      <td>-0.005251</td>\n",
       "      <td>-0.001262</td>\n",
       "      <td>0.001772</td>\n",
       "      <td>-0.024134</td>\n",
       "      <td>-0.013678</td>\n",
       "      <td>-0.011231</td>\n",
       "      <td>-0.008161</td>\n",
       "      <td>-0.015700</td>\n",
       "      <td>-0.013930</td>\n",
       "      <td>...</td>\n",
       "      <td>-0.005043</td>\n",
       "      <td>0.008393</td>\n",
       "      <td>0.000000</td>\n",
       "      <td>0.001535</td>\n",
       "      <td>0.004492</td>\n",
       "      <td>0.004214</td>\n",
       "      <td>-0.001893</td>\n",
       "      <td>0.001192</td>\n",
       "      <td>-0.001518</td>\n",
       "      <td>0.002690</td>\n",
       "    </tr>\n",
       "    <tr>\n",
       "      <th>251</th>\n",
       "      <td>2019-12-31</td>\n",
       "      <td>0.009129</td>\n",
       "      <td>0.004132</td>\n",
       "      <td>-0.004659</td>\n",
       "      <td>0.008362</td>\n",
       "      <td>0.005964</td>\n",
       "      <td>-0.000611</td>\n",
       "      <td>-0.000656</td>\n",
       "      <td>0.002258</td>\n",
       "      <td>0.005409</td>\n",
       "      <td>...</td>\n",
       "      <td>0.003599</td>\n",
       "      <td>0.011561</td>\n",
       "      <td>0.013168</td>\n",
       "      <td>0.006456</td>\n",
       "      <td>0.007590</td>\n",
       "      <td>0.005870</td>\n",
       "      <td>0.005667</td>\n",
       "      <td>0.002843</td>\n",
       "      <td>0.000651</td>\n",
       "      <td>0.003155</td>\n",
       "    </tr>\n",
       "  </tbody>\n",
       "</table>\n",
       "<p>5 rows × 489 columns</p>\n",
       "</div>"
      ],
      "text/plain": [
       "           Date      ATVI      CHTR     CMCSA       CTL       DIS     DISCA  \\\n",
       "247  2019-12-24 -0.001359  0.000291  0.009703 -0.002277  0.004207  0.003943   \n",
       "248  2019-12-26  0.001359  0.010077  0.009833 -0.003807  0.002818  0.007540   \n",
       "249  2019-12-27  0.005081 -0.004209  0.002887  0.023371  0.000343 -0.004517   \n",
       "250  2019-12-30 -0.005251 -0.001262  0.001772 -0.024134 -0.013678 -0.011231   \n",
       "251  2019-12-31  0.009129  0.004132 -0.004659  0.008362  0.005964 -0.000611   \n",
       "\n",
       "        DISCK      DISH        EA  ...       NEE        NI       NRG  \\\n",
       "247  0.007496  0.001956  0.007026  ...  0.007219 -0.000729 -0.004752   \n",
       "248  0.004212  0.008617 -0.000369  ...  0.006011 -0.002921 -0.016684   \n",
       "249 -0.005511 -0.004994 -0.000738  ...  0.002271 -0.002196  0.000000   \n",
       "250 -0.008161 -0.015700 -0.013930  ... -0.005043  0.008393  0.000000   \n",
       "251 -0.000656  0.002258  0.005409  ...  0.003599  0.011561  0.013168   \n",
       "\n",
       "          PEG       PNW       PPL        SO       SRE       WEC       XEL  \n",
       "247 -0.001537 -0.001350 -0.001122 -0.002057  0.000598  0.001529  0.003905  \n",
       "248  0.002049  0.001012 -0.002530  0.000633  0.006418  0.001418 -0.001114  \n",
       "249 -0.000853 -0.001125 -0.000281  0.004580  0.001446  0.006085  0.005242  \n",
       "250  0.001535  0.004492  0.004214 -0.001893  0.001192 -0.001518  0.002690  \n",
       "251  0.006456  0.007590  0.005870  0.005667  0.002843  0.000651  0.003155  \n",
       "\n",
       "[5 rows x 489 columns]"
      ]
     },
     "execution_count": 147,
     "metadata": {},
     "output_type": "execute_result"
    }
   ],
   "source": [
    "# code for question 4\n",
    "returns.tail()"
   ]
  },
  {
   "cell_type": "markdown",
   "metadata": {
    "id": "eYvTlY30o3Lq"
   },
   "source": [
    "### 5. How many stocks are in this `DataFrame`?"
   ]
  },
  {
   "cell_type": "code",
   "execution_count": 148,
   "metadata": {
    "id": "EMdow3Zno3Lu"
   },
   "outputs": [
    {
     "data": {
      "text/plain": [
       "488"
      ]
     },
     "execution_count": 148,
     "metadata": {},
     "output_type": "execute_result"
    }
   ],
   "source": [
    "# code for question 5\n",
    "len(returns.columns)-1"
   ]
  },
  {
   "cell_type": "markdown",
   "metadata": {
    "id": "9I6VxC1Po3Lw"
   },
   "source": [
    "**ANSWER FOR QUESTION 5**: There are 488 stocks in this DataFrame."
   ]
  },
  {
   "cell_type": "markdown",
   "metadata": {
    "id": "UnNCCXBXo3Lz"
   },
   "source": [
    "### 6. Over how many days are these stock returns reported?"
   ]
  },
  {
   "cell_type": "code",
   "execution_count": 149,
   "metadata": {
    "id": "_CeL4dWTo3L0"
   },
   "outputs": [
    {
     "data": {
      "text/plain": [
       "252"
      ]
     },
     "execution_count": 149,
     "metadata": {},
     "output_type": "execute_result"
    }
   ],
   "source": [
    "# code for question 6\n",
    "len(returns.index)"
   ]
  },
  {
   "cell_type": "markdown",
   "metadata": {
    "id": "ffbJfjE-o3L1"
   },
   "source": [
    "**ANSWER FOR QUESTION 6**: There are 252 days reported."
   ]
  },
  {
   "cell_type": "markdown",
   "metadata": {
    "id": "lr5O5Kawo3L1"
   },
   "source": [
    "### 7. Extract the returns of the Amazon stock only, which has a ticker symbol `AMZN`. Save it in a `Series` called `amzn_returns`."
   ]
  },
  {
   "cell_type": "code",
   "execution_count": 150,
   "metadata": {
    "id": "lREq9Jjco3L2"
   },
   "outputs": [
    {
     "data": {
      "text/plain": [
       "0    0.024440\n",
       "1   -0.025566\n",
       "2    0.048851\n",
       "3    0.033776\n",
       "4    0.016476\n",
       "Name: AMZN, dtype: float64"
      ]
     },
     "execution_count": 150,
     "metadata": {},
     "output_type": "execute_result"
    }
   ],
   "source": [
    "# code for question 7\n",
    "amzn_returns = pd.Series(returns[\"AMZN\"])\n",
    "amzn_returns.head()"
   ]
  },
  {
   "cell_type": "markdown",
   "metadata": {
    "id": "BOS9Qxl1o3L3"
   },
   "source": [
    "### 8. Plot the Amazon stock returns extracted in the above cell. "
   ]
  },
  {
   "cell_type": "code",
   "execution_count": 151,
   "metadata": {
    "id": "KFfxJ4pgo3L4"
   },
   "outputs": [
    {
     "data": {
      "text/plain": [
       "Text(0, 0.5, 'Returns')"
      ]
     },
     "execution_count": 151,
     "metadata": {},
     "output_type": "execute_result"
    },
    {
     "data": {
      "image/png": "[encoded data removed]",
      "text/plain": [
       "<Figure size 432x288 with 1 Axes>"
      ]
     },
     "metadata": {
      "needs_background": "light"
     },
     "output_type": "display_data"
    }
   ],
   "source": [
    "# code for question 8\n",
    "amzn_plot = amzn_returns.plot()\n",
    "amzn_plot.set_xlabel(\"Days\")\n",
    "amzn_plot.set_ylabel(\"Returns\")"
   ]
  },
  {
   "cell_type": "markdown",
   "metadata": {
    "id": "93EqI5Vho3L4"
   },
   "source": [
    "### 9. Plot the cumulative sum of the Amazon stock returns using the method `.cumsum()` which acts directly on the `amzn_returns` `Series`."
   ]
  },
  {
   "cell_type": "code",
   "execution_count": 152,
   "metadata": {
    "id": "hSElpeYvo3L5"
   },
   "outputs": [
    {
     "data": {
      "text/plain": [
       "Text(0, 0.5, 'Cumulative sum of returns')"
      ]
     },
     "execution_count": 152,
     "metadata": {},
     "output_type": "execute_result"
    },
    {
     "data": {
      "image/png": "[encoded data removed]",
      "text/plain": [
       "<Figure size 432x288 with 1 Axes>"
      ]
     },
     "metadata": {
      "needs_background": "light"
     },
     "output_type": "display_data"
    }
   ],
   "source": [
    "# code for question 9\n",
    "amzn_returns_cumsum = amzn_returns.cumsum().plot()\n",
    "amzn_returns_cumsum.set_xlabel(\"Days\")\n",
    "amzn_returns_cumsum.set_ylabel(\"Cumulative sum of returns\")"
   ]
  },
  {
   "cell_type": "code",
   "execution_count": 153,
   "metadata": {
    "id": "e4RiuVn6o3L6"
   },
   "outputs": [],
   "source": [
    "# the module below will allow us to perform linear regression\n",
    "import statsmodels.api as sm"
   ]
  },
  {
   "cell_type": "markdown",
   "metadata": {
    "id": "FbZBRVSio3L6"
   },
   "source": [
    "The function `lin_reg(x,y)` given below performs ordinary least squares (OLS) linear regression using `sm.OLS` from the `statsmodels.api` module.\n",
    "\n",
    "The code enclosed in `''' '''` is the docstring of the function `lin_reg`.\n",
    "\n",
    "`x` in the `lin_reg` function is a matrix that contains the regressors, and `y` represents the vector containing the dependent variable. Note that `x` might contain one vector or multiple vectors. In the case that `x` contains one vector $x$, the regression gives:\n",
    "\n",
    "$$ y = \\beta_0 + \\beta_1 x $$\n",
    "\n",
    "In the case that `x` contains multiple vectors $x_1, \\dots, x_k$, the regression becomes:\n",
    "\n",
    "$$ y = \\beta_0 + \\beta_1 x_1 + \\dots + \\beta_k x_k$$\n",
    "\n",
    "The $\\beta$'s are the regression coefficients obtained using least squares. Note that `sm.add_constant` is used in the function below to make `x` look like the matrix $A$ we use in least squares, whose first column contains all ones."
   ]
  },
  {
   "cell_type": "code",
   "execution_count": 154,
   "metadata": {
    "id": "UWEhWIAuo3L7"
   },
   "outputs": [],
   "source": [
    "def lin_reg(x, y):\n",
    "    '''\n",
    "    ordinary linear regression using least-squares\n",
    "    \n",
    "    Parameters\n",
    "    ----------  \n",
    "    x: regressors (numpy array)\n",
    "    y: dependent variable (numpy array)\n",
    "    \n",
    "    Returns\n",
    "    -------\n",
    "    coefficients: regression coefficients (pandas Series)\n",
    "    residuals: regression residuals (numpy array)\n",
    "    r_squared: correlation coefficient (float)\n",
    "    \n",
    "    '''\n",
    "    x = sm.add_constant(x)\n",
    "    model = sm.OLS(y, x).fit()\n",
    "    coefficients = model.params\n",
    "    residuals = model.resid\n",
    "    r_squared = model.rsquared\n",
    "    return coefficients, residuals, r_squared"
   ]
  },
  {
   "cell_type": "markdown",
   "metadata": {
    "id": "sM0SffWJo3L8"
   },
   "source": [
    "### 10. Let's try to use the above function. Extract (as numpy array) the stock returns of:\n",
    "\n",
    "- Apple (ticker symbol `AAPL`) and call it `aapl`\n",
    "- Intel (ticker symbol `INTC`) and call it `intc`\n",
    "- Microsoft (ticker symbol `MSFT`) and call it `msft`\n",
    "- IBM (ticker symbol `IBM`) and call it `ibm`\n",
    "\n",
    "### Let `y` be the Apple stock returns, and `x` be the Intel stock returns. Use the `lin_reg` function defined above to find $y=\\beta_0 + \\beta_1 x$. "
   ]
  },
  {
   "cell_type": "code",
   "execution_count": 155,
   "metadata": {
    "id": "eYgcH6Kvo3L9"
   },
   "outputs": [
    {
     "data": {
      "text/plain": [
       "array([0.00195633, 0.53526326])"
      ]
     },
     "execution_count": 155,
     "metadata": {},
     "output_type": "execute_result"
    }
   ],
   "source": [
    "# code for question 10\n",
    "aapl = pd.Series(returns[\"AAPL\"]).to_numpy()\n",
    "intc = pd.Series(returns[\"INTC\"]).to_numpy()\n",
    "msft = pd.Series(returns[\"MSFT\"]).to_numpy()\n",
    "ibm = pd.Series(returns[\"IBM\"]).to_numpy()\n",
    "\n",
    "aapl_lin_reg_10 = lin_reg(intc, aapl)\n",
    "aapl_lin_reg_10[0]"
   ]
  },
  {
   "cell_type": "markdown",
   "metadata": {},
   "source": [
    "# y = 0.00195633 + 0.53526326*x"
   ]
  },
  {
   "cell_type": "markdown",
   "metadata": {
    "id": "kjSgDiWRo3L-"
   },
   "source": [
    "### 11. Plot the cumulative sum of the Apple returns prediction from least squares on top of the cumulative sum of the actual Apple returns. How well do the Intel stock returns describe the Apple stock returns? Answer this question using a quantitative measure of choice to describe how well the regression describes the actual data (you should research what is standard procedure in answering these types of questions)."
   ]
  },
  {
   "cell_type": "code",
   "execution_count": 156,
   "metadata": {
    "id": "oFHxC6oWo3L_"
   },
   "outputs": [
    {
     "name": "stdout",
     "output_type": "stream",
     "text": [
      "R^2 = 0.3050299157977574\n"
     ]
    },
    {
     "data": {
      "image/png": "[encoded data removed]",
      "text/plain": [
       "<Figure size 432x288 with 1 Axes>"
      ]
     },
     "metadata": {
      "needs_background": "light"
     },
     "output_type": "display_data"
    }
   ],
   "source": [
    "# code for question 11\n",
    "\n",
    "days = np.arange(aapl.shape[0])\n",
    "\n",
    "# plot cum sum of AAPL returns prediction from OLS\n",
    "aapl_pred = aapl_lin_reg_10[0][0] + aapl_lin_reg_10[0][1]*intc\n",
    "aapl_pred_cumsum = aapl_pred.cumsum()\n",
    "plt.plot(days,aapl_pred_cumsum, \"-b\", label=\"Predicted Apple returns from Intel returns\")\n",
    "\n",
    "# plot cum sum of AAPL returns\n",
    "aapl_cumsum = aapl.cumsum()\n",
    "plt.plot(days,aapl_cumsum, \"-r\", label=\"Actual Apple returns\")\n",
    "\n",
    "# labels\n",
    "plt.legend(loc=\"upper left\")\n",
    "plt.xlabel(\"Days\")\n",
    "plt.ylabel(\"Cumulative sum of returns\")\n",
    "\n",
    "# print correlation coefficient \n",
    "print(\"R^2 =\", aapl_lin_reg_10[2])"
   ]
  },
  {
   "cell_type": "markdown",
   "metadata": {
    "id": "AohUeUtTo3L_"
   },
   "source": [
    "**ANSWER FOR QUESTION 11**: The description of the actual data by the regression is weak since R^2 = 0.3050299157977574, which is closer to 0 than 1. Only 30% of the observed variations in the Apple stock returns can be explained by the Intel stock returns."
   ]
  },
  {
   "cell_type": "markdown",
   "metadata": {
    "id": "VN_du4K5o3MB"
   },
   "source": [
    "### 12. Now, let `y` be the Apple stock returns, and `x` be the Intel, Microsoft, and IBM stock returns. Use the `lin_reg` function defined above to find $y=\\beta_0 + \\beta_1 x_1 + \\beta_2 x_2 + \\beta_3 x_3$, where $x_1$ represents Intel returns, $x_2$ represents Microsoft returns, and $x_3$ represents IBM returns. "
   ]
  },
  {
   "cell_type": "code",
   "execution_count": 157,
   "metadata": {
    "id": "DUyZH_-po3MC"
   },
   "outputs": [
    {
     "name": "stderr",
     "output_type": "stream",
     "text": [
      "/Users/pattssun/opt/anaconda3/lib/python3.9/site-packages/statsmodels/tsa/tsatools.py:142: FutureWarning: In a future version of pandas all arguments of concat except for the argument 'objs' will be keyword-only\n",
      "  x = pd.concat(x[::order], 1)\n"
     ]
    },
    {
     "data": {
      "text/plain": [
       "const    0.001116\n",
       "INTC     0.284141\n",
       "MSFT     0.543723\n",
       "IBM      0.150586\n",
       "dtype: float64"
      ]
     },
     "execution_count": 157,
     "metadata": {},
     "output_type": "execute_result"
    }
   ],
   "source": [
    "# code for question 12\n",
    "bundle = returns[[\"INTC\", \"MSFT\", \"IBM\"]]\n",
    "aapl_lin_reg_12 = lin_reg(bundle, aapl)\n",
    "aapl_lin_reg_12[0]"
   ]
  },
  {
   "cell_type": "markdown",
   "metadata": {},
   "source": [
    "# y = 0.001116 + 0.284141*x1 + 0.543723*x2 + 0.150586*x3"
   ]
  },
  {
   "cell_type": "markdown",
   "metadata": {
    "id": "nS3SgLEQo3MD"
   },
   "source": [
    "### 13. Plot the cumulative sum of the Apple returns prediction from least squares on top of the cumulative sum of actual Apple returns. How well do the Intel, Microsoft, and IBM stock returns describe the Apple stock returns? Answer this question using a quantitative measure of choice to describe how well the regression describes the actual data (you should research what is standard procedure in answering these types of questions)."
   ]
  },
  {
   "cell_type": "code",
   "execution_count": 158,
   "metadata": {
    "id": "UUCDe_TQo3MD"
   },
   "outputs": [
    {
     "name": "stdout",
     "output_type": "stream",
     "text": [
      "R^2 = 0.4704730705676302\n"
     ]
    },
    {
     "data": {
      "image/png": "[encoded data removed]",
      "text/plain": [
       "<Figure size 432x288 with 1 Axes>"
      ]
     },
     "metadata": {
      "needs_background": "light"
     },
     "output_type": "display_data"
    }
   ],
   "source": [
    "# code for question 13\n",
    "\n",
    "# plot cum sum of AAPL returns prediction from OLS\n",
    "aapl_pred = aapl_lin_reg_12[0][0] + aapl_lin_reg_12[0][1]*intc + aapl_lin_reg_12[0][2]*msft + aapl_lin_reg_12[0][3]*ibm\n",
    "aapl_pred_cumsum = aapl_pred.cumsum()\n",
    "plt.plot(days,aapl_pred_cumsum, \"-b\", label=\"Predicted Apple returns from Intel, Microsoft, IBM returns\")\n",
    "\n",
    "# plot cum sum of AAPL returns\n",
    "aapl_cumsum = aapl.cumsum()\n",
    "plt.plot(days,aapl_cumsum, \"-r\", label=\"Actual Apple returns\")\n",
    "\n",
    "# labels\n",
    "plt.legend(loc=\"upper left\")\n",
    "plt.xlabel(\"Days\")\n",
    "plt.ylabel(\"Cumulative sum of returns\")\n",
    "\n",
    "# print correlation coefficient \n",
    "print(\"R^2 =\", aapl_lin_reg_12[2])"
   ]
  },
  {
   "cell_type": "markdown",
   "metadata": {
    "id": "SCQlVPNmo3ME"
   },
   "source": [
    "**ANSWER FOR QUESTION 13**: Since R^2 = 0.4704730705676302, almost half (47%) of the observed variations in the Apple sotck returns can be explained by the Intel, Microsoft, and IBM stock returns.\n"
   ]
  },
  {
   "cell_type": "markdown",
   "metadata": {
    "id": "HbmcUm2zo3ME"
   },
   "source": [
    "The file `SPY.csv` contains the prices of SPDR S&P 500 ETF Trust. This Exchange Traded Fund (ETF) contains a collection of assets currently present in the S&P 500 index. \n",
    "\n",
    "### 14. Load `SPY.csv` into a DataFrame called `spy_prices` using the `read_csv` method in `pandas`. Make sure to make the 'Date' column to be your index column. To do that, read the docstring for `read_csv`. "
   ]
  },
  {
   "cell_type": "code",
   "execution_count": 159,
   "metadata": {
    "id": "FSULofdLo3MF"
   },
   "outputs": [],
   "source": [
    "# code for question 14\n",
    "spy_prices = pd.read_csv(\"SPY.csv\", index_col=\"Date\")"
   ]
  },
  {
   "cell_type": "markdown",
   "metadata": {
    "id": "Q3SZG271o3MG"
   },
   "source": [
    "### 15. Once you have downloaded the file into the `DataFrame`, observe all the available prices and dates. Show the head and tail of the `DataFrame`, and then answer the following questions:\n",
    "\n",
    "(a) Which types of prices are reported?\n",
    "\n",
    "(b) From which date to which date are these prices reported (in the entire DataFrame)?"
   ]
  },
  {
   "cell_type": "code",
   "execution_count": 160,
   "metadata": {
    "id": "Ls_7gotgo3MG"
   },
   "outputs": [
    {
     "data": {
      "text/html": [
       "<div>\n",
       "<style scoped>\n",
       "    .dataframe tbody tr th:only-of-type {\n",
       "        vertical-align: middle;\n",
       "    }\n",
       "\n",
       "    .dataframe tbody tr th {\n",
       "        vertical-align: top;\n",
       "    }\n",
       "\n",
       "    .dataframe thead th {\n",
       "        text-align: right;\n",
       "    }\n",
       "</style>\n",
       "<table border=\"1\" class=\"dataframe\">\n",
       "  <thead>\n",
       "    <tr style=\"text-align: right;\">\n",
       "      <th></th>\n",
       "      <th>High</th>\n",
       "      <th>Low</th>\n",
       "      <th>Open</th>\n",
       "      <th>Close</th>\n",
       "      <th>Volume</th>\n",
       "      <th>Adj Close</th>\n",
       "    </tr>\n",
       "    <tr>\n",
       "      <th>Date</th>\n",
       "      <th></th>\n",
       "      <th></th>\n",
       "      <th></th>\n",
       "      <th></th>\n",
       "      <th></th>\n",
       "      <th></th>\n",
       "    </tr>\n",
       "  </thead>\n",
       "  <tbody>\n",
       "    <tr>\n",
       "      <th>2015-01-02</th>\n",
       "      <td>206.880005</td>\n",
       "      <td>204.179993</td>\n",
       "      <td>206.380005</td>\n",
       "      <td>205.429993</td>\n",
       "      <td>121465900.0</td>\n",
       "      <td>184.260223</td>\n",
       "    </tr>\n",
       "    <tr>\n",
       "      <th>2015-01-05</th>\n",
       "      <td>204.369995</td>\n",
       "      <td>201.350006</td>\n",
       "      <td>204.169998</td>\n",
       "      <td>201.720001</td>\n",
       "      <td>169632600.0</td>\n",
       "      <td>180.932541</td>\n",
       "    </tr>\n",
       "    <tr>\n",
       "      <th>2015-01-06</th>\n",
       "      <td>202.720001</td>\n",
       "      <td>198.860001</td>\n",
       "      <td>202.089996</td>\n",
       "      <td>199.820007</td>\n",
       "      <td>209151400.0</td>\n",
       "      <td>179.228363</td>\n",
       "    </tr>\n",
       "    <tr>\n",
       "      <th>2015-01-07</th>\n",
       "      <td>202.720001</td>\n",
       "      <td>200.880005</td>\n",
       "      <td>201.419998</td>\n",
       "      <td>202.309998</td>\n",
       "      <td>125346700.0</td>\n",
       "      <td>181.461731</td>\n",
       "    </tr>\n",
       "    <tr>\n",
       "      <th>2015-01-08</th>\n",
       "      <td>206.160004</td>\n",
       "      <td>203.990005</td>\n",
       "      <td>204.009995</td>\n",
       "      <td>205.899994</td>\n",
       "      <td>147217800.0</td>\n",
       "      <td>184.681763</td>\n",
       "    </tr>\n",
       "  </tbody>\n",
       "</table>\n",
       "</div>"
      ],
      "text/plain": [
       "                  High         Low        Open       Close       Volume  \\\n",
       "Date                                                                      \n",
       "2015-01-02  206.880005  204.179993  206.380005  205.429993  121465900.0   \n",
       "2015-01-05  204.369995  201.350006  204.169998  201.720001  169632600.0   \n",
       "2015-01-06  202.720001  198.860001  202.089996  199.820007  209151400.0   \n",
       "2015-01-07  202.720001  200.880005  201.419998  202.309998  125346700.0   \n",
       "2015-01-08  206.160004  203.990005  204.009995  205.899994  147217800.0   \n",
       "\n",
       "             Adj Close  \n",
       "Date                    \n",
       "2015-01-02  184.260223  \n",
       "2015-01-05  180.932541  \n",
       "2015-01-06  179.228363  \n",
       "2015-01-07  181.461731  \n",
       "2015-01-08  184.681763  "
      ]
     },
     "execution_count": 160,
     "metadata": {},
     "output_type": "execute_result"
    }
   ],
   "source": [
    "# code for question 15\n",
    "\n",
    "# show head\n",
    "spy_prices.head()"
   ]
  },
  {
   "cell_type": "code",
   "execution_count": 161,
   "metadata": {},
   "outputs": [
    {
     "data": {
      "text/html": [
       "<div>\n",
       "<style scoped>\n",
       "    .dataframe tbody tr th:only-of-type {\n",
       "        vertical-align: middle;\n",
       "    }\n",
       "\n",
       "    .dataframe tbody tr th {\n",
       "        vertical-align: top;\n",
       "    }\n",
       "\n",
       "    .dataframe thead th {\n",
       "        text-align: right;\n",
       "    }\n",
       "</style>\n",
       "<table border=\"1\" class=\"dataframe\">\n",
       "  <thead>\n",
       "    <tr style=\"text-align: right;\">\n",
       "      <th></th>\n",
       "      <th>High</th>\n",
       "      <th>Low</th>\n",
       "      <th>Open</th>\n",
       "      <th>Close</th>\n",
       "      <th>Volume</th>\n",
       "      <th>Adj Close</th>\n",
       "    </tr>\n",
       "    <tr>\n",
       "      <th>Date</th>\n",
       "      <th></th>\n",
       "      <th></th>\n",
       "      <th></th>\n",
       "      <th></th>\n",
       "      <th></th>\n",
       "      <th></th>\n",
       "    </tr>\n",
       "  </thead>\n",
       "  <tbody>\n",
       "    <tr>\n",
       "      <th>2020-05-26</th>\n",
       "      <td>302.190002</td>\n",
       "      <td>295.459991</td>\n",
       "      <td>301.929993</td>\n",
       "      <td>299.079987</td>\n",
       "      <td>88951400.0</td>\n",
       "      <td>297.769623</td>\n",
       "    </tr>\n",
       "    <tr>\n",
       "      <th>2020-05-27</th>\n",
       "      <td>303.570007</td>\n",
       "      <td>296.869995</td>\n",
       "      <td>302.119995</td>\n",
       "      <td>303.529999</td>\n",
       "      <td>104817400.0</td>\n",
       "      <td>302.200134</td>\n",
       "    </tr>\n",
       "    <tr>\n",
       "      <th>2020-05-28</th>\n",
       "      <td>306.839996</td>\n",
       "      <td>302.239990</td>\n",
       "      <td>304.649994</td>\n",
       "      <td>302.970001</td>\n",
       "      <td>90405200.0</td>\n",
       "      <td>301.642609</td>\n",
       "    </tr>\n",
       "    <tr>\n",
       "      <th>2020-05-29</th>\n",
       "      <td>304.959991</td>\n",
       "      <td>299.470001</td>\n",
       "      <td>302.459991</td>\n",
       "      <td>304.320007</td>\n",
       "      <td>119265700.0</td>\n",
       "      <td>302.986694</td>\n",
       "    </tr>\n",
       "    <tr>\n",
       "      <th>2020-06-01</th>\n",
       "      <td>306.209991</td>\n",
       "      <td>303.059998</td>\n",
       "      <td>303.619995</td>\n",
       "      <td>305.549988</td>\n",
       "      <td>55758300.0</td>\n",
       "      <td>304.211273</td>\n",
       "    </tr>\n",
       "  </tbody>\n",
       "</table>\n",
       "</div>"
      ],
      "text/plain": [
       "                  High         Low        Open       Close       Volume  \\\n",
       "Date                                                                      \n",
       "2020-05-26  302.190002  295.459991  301.929993  299.079987   88951400.0   \n",
       "2020-05-27  303.570007  296.869995  302.119995  303.529999  104817400.0   \n",
       "2020-05-28  306.839996  302.239990  304.649994  302.970001   90405200.0   \n",
       "2020-05-29  304.959991  299.470001  302.459991  304.320007  119265700.0   \n",
       "2020-06-01  306.209991  303.059998  303.619995  305.549988   55758300.0   \n",
       "\n",
       "             Adj Close  \n",
       "Date                    \n",
       "2020-05-26  297.769623  \n",
       "2020-05-27  302.200134  \n",
       "2020-05-28  301.642609  \n",
       "2020-05-29  302.986694  \n",
       "2020-06-01  304.211273  "
      ]
     },
     "execution_count": 161,
     "metadata": {},
     "output_type": "execute_result"
    }
   ],
   "source": [
    "# show tail\n",
    "spy_prices.tail()"
   ]
  },
  {
   "cell_type": "markdown",
   "metadata": {
    "id": "Tqr0o5G2o3MH"
   },
   "source": [
    "**ANSWER FOR QUESTION 15**: (double click here and type your answer)\n",
    "\n",
    "(a) High (highest price of the day), Low (lowest price of the day), Open (price when market opens) , Close (price when market closes), Volume (number of units traded during the day), Adj Close (closing price after adjustments for all applicable splits and dividend distributions).\n",
    "\n",
    "(b) The prices are reported from 2015-01-02 to 2020-06-01."
   ]
  },
  {
   "cell_type": "markdown",
   "metadata": {
    "id": "mljWsyHIo3MH"
   },
   "source": [
    "### 16. Retain only the Adjusted Close price in the `spy_prices` `DataFrame`. Call the resulting `Series` `spy_adjclose`."
   ]
  },
  {
   "cell_type": "code",
   "execution_count": 162,
   "metadata": {
    "id": "NUalgy5ko3MI"
   },
   "outputs": [],
   "source": [
    "# code for question 16\n",
    "\n",
    "spy_adjclose = pd.Series(spy_prices[\"Adj Close\"])"
   ]
  },
  {
   "cell_type": "markdown",
   "metadata": {
    "id": "K4PydhCVo3MJ"
   },
   "source": [
    "### 17. Now, using the `pct_change` method in `pandas`, compute the returns on the Adjusted Close prices of SPY, and only retain the returns from '2019-01-01' to '2020-01-01'. Call the `Series` obtained `spy_returns`."
   ]
  },
  {
   "cell_type": "code",
   "execution_count": 163,
   "metadata": {
    "id": "fnfMg1rxo3MJ"
   },
   "outputs": [
    {
     "data": {
      "text/plain": [
       "Date\n",
       "2019-01-02    0.001040\n",
       "2019-01-03   -0.023863\n",
       "2019-01-04    0.033496\n",
       "2019-01-07    0.007885\n",
       "2019-01-08    0.009395\n",
       "                ...   \n",
       "2019-12-24    0.000031\n",
       "2019-12-26    0.005323\n",
       "2019-12-27   -0.000248\n",
       "2019-12-30   -0.005513\n",
       "2019-12-31    0.002429\n",
       "Name: Adj Close, Length: 252, dtype: float64"
      ]
     },
     "execution_count": 163,
     "metadata": {},
     "output_type": "execute_result"
    }
   ],
   "source": [
    "# code for question 17\n",
    "\n",
    "spy_returns = spy_adjclose.pct_change().loc['2019-01-01':'2020-01-01']\n",
    "spy_returns"
   ]
  },
  {
   "cell_type": "markdown",
   "metadata": {
    "id": "Op1v6eKco3MK"
   },
   "source": [
    "### 18. Perform SVD on `returns` data that contain assets from the S&P 500, and save the left singular vectors in an array called `U`, the singular values in an array called `sing_vals`, and the right singular vectros in an array called `V`. Retain the left singular vector corresponding to the largest singular value and call is `u_sigma1`."
   ]
  },
  {
   "cell_type": "code",
   "execution_count": 164,
   "metadata": {
    "id": "ZhGtqZlJo3ML"
   },
   "outputs": [],
   "source": [
    "# code for question 18\n",
    "\n",
    "df = returns.drop('Date', axis=1) # drop 'Date' column to compute SVD\n",
    "returns_np = df.to_numpy() # convert to numpy array\n",
    "U, sing_vals, V = npla.svd(returns_np) # compute SVD\n",
    "u_sigma1 = U[:,0] # retain the left singular vector corresponding to the largest singular value"
   ]
  },
  {
   "cell_type": "markdown",
   "metadata": {
    "id": "z8hsxeX9o3ML"
   },
   "source": [
    "### 19. `u_sigma1` is thought to track the market. To test that, we will perform a regression of `spy_returns` against this first left singular vector by letting `y=spy_returns` and `x=u_sigma1` and computing\n",
    "\n",
    "### $$ y = \\beta_0 + \\beta_1 x$$\n",
    "### using least squares regression."
   ]
  },
  {
   "cell_type": "code",
   "execution_count": 165,
   "metadata": {
    "id": "IQthBSxPo3MM"
   },
   "outputs": [
    {
     "data": {
      "text/plain": [
       "const    0.000346\n",
       "x1      -0.118992\n",
       "dtype: float64"
      ]
     },
     "execution_count": 165,
     "metadata": {},
     "output_type": "execute_result"
    }
   ],
   "source": [
    "# code for question 19\n",
    "\n",
    "spy_returns_lin_reg_19 = lin_reg(u_sigma1, spy_returns)\n",
    "spy_returns_lin_reg_19[0]"
   ]
  },
  {
   "cell_type": "markdown",
   "metadata": {},
   "source": [
    "# y = 0.000346 + -0.118992*x"
   ]
  },
  {
   "cell_type": "markdown",
   "metadata": {
    "id": "idRHqOqco3MM"
   },
   "source": [
    "### 20. Plot the cumulative sum of the result from the regression on top of the cumulative sum of `spy_returns`. What do you notice? Answer this question using a quantitative measure of choice to describe how well the regression describes the actual data (you should research what is standard procedure in answering these types of questions)."
   ]
  },
  {
   "cell_type": "code",
   "execution_count": 166,
   "metadata": {
    "id": "OZaw-XZqo3MN"
   },
   "outputs": [
    {
     "name": "stdout",
     "output_type": "stream",
     "text": [
      "R^2 = 0.8987899218671396\n"
     ]
    },
    {
     "data": {
      "image/png": "[encoded data removed]",
      "text/plain": [
       "<Figure size 432x288 with 1 Axes>"
      ]
     },
     "metadata": {
      "needs_background": "light"
     },
     "output_type": "display_data"
    }
   ],
   "source": [
    "# code for question 20\n",
    "\n",
    "days = np.arange(u_sigma1.shape[0])\n",
    "\n",
    "# plot cum sum of spy_returns prediction from OLS\n",
    "spy_returns_pred = spy_returns_lin_reg_19[0][0] + spy_returns_lin_reg_19[0][1]*u_sigma1\n",
    "spy_returns_pred_cumsum = spy_returns_pred.cumsum()\n",
    "plt.plot(days, spy_returns_pred_cumsum, \"-b\", label=\"Predicted SPY returns\")\n",
    "\n",
    "# plot cum sum of spy_returns\n",
    "spy_returns_cumsum = spy_returns.cumsum()\n",
    "plt.plot(days, spy_returns_cumsum, \"-r\", label=\"Actual SPY returns\")\n",
    "\n",
    "# labels\n",
    "plt.legend(loc=\"upper left\")\n",
    "plt.xlabel(\"Days\")\n",
    "plt.ylabel(\"Cumulative sum of returns\")\n",
    "\n",
    "# print correlation coefficient \n",
    "print(\"R^2 =\", spy_returns_lin_reg_19[2])"
   ]
  },
  {
   "cell_type": "markdown",
   "metadata": {
    "id": "sDOLMEZ9o3MN"
   },
   "source": [
    "**ANSWER FOR QUESTION 20**: The description of the actual data by the regression is really strong since R^2 = 0.8987899218671396, which is closer to 0 than 1. 90% of the observed variations in the SPY returns can be explained by u_sigma1."
   ]
  },
  {
   "cell_type": "markdown",
   "metadata": {
    "id": "9utCD6iFo3MO"
   },
   "source": [
    "# Congratulations! You have just implemented your first PCA regression to describe the returns on the S&P 500. Now let's shift gears a little and see how singular values and singular vectors of returns matrices are connected to eigenvalues and eigenvectors of correlation matrices."
   ]
  },
  {
   "cell_type": "markdown",
   "metadata": {
    "id": "z3XcekZdo3MP"
   },
   "source": [
    "### 21. Compute the standardized returns of the S&P 500 and save you answer in a `DataFrame` called `sp500_standardized_returns`."
   ]
  },
  {
   "cell_type": "code",
   "execution_count": 167,
   "metadata": {
    "id": "7EL9Y8Ppo3MP"
   },
   "outputs": [
    {
     "data": {
      "text/html": [
       "<div>\n",
       "<style scoped>\n",
       "    .dataframe tbody tr th:only-of-type {\n",
       "        vertical-align: middle;\n",
       "    }\n",
       "\n",
       "    .dataframe tbody tr th {\n",
       "        vertical-align: top;\n",
       "    }\n",
       "\n",
       "    .dataframe thead th {\n",
       "        text-align: right;\n",
       "    }\n",
       "</style>\n",
       "<table border=\"1\" class=\"dataframe\">\n",
       "  <thead>\n",
       "    <tr style=\"text-align: right;\">\n",
       "      <th></th>\n",
       "      <th>ATVI</th>\n",
       "      <th>CHTR</th>\n",
       "      <th>CMCSA</th>\n",
       "      <th>CTL</th>\n",
       "      <th>DIS</th>\n",
       "      <th>DISCA</th>\n",
       "      <th>DISCK</th>\n",
       "      <th>DISH</th>\n",
       "      <th>EA</th>\n",
       "      <th>FB</th>\n",
       "      <th>...</th>\n",
       "      <th>NEE</th>\n",
       "      <th>NI</th>\n",
       "      <th>NRG</th>\n",
       "      <th>PEG</th>\n",
       "      <th>PNW</th>\n",
       "      <th>PPL</th>\n",
       "      <th>SO</th>\n",
       "      <th>SRE</th>\n",
       "      <th>WEC</th>\n",
       "      <th>XEL</th>\n",
       "    </tr>\n",
       "  </thead>\n",
       "  <tbody>\n",
       "    <tr>\n",
       "      <th>0</th>\n",
       "      <td>0.391715</td>\n",
       "      <td>0.623274</td>\n",
       "      <td>0.682788</td>\n",
       "      <td>0.772755</td>\n",
       "      <td>-0.527091</td>\n",
       "      <td>2.214992</td>\n",
       "      <td>1.736882</td>\n",
       "      <td>1.635478</td>\n",
       "      <td>0.735811</td>\n",
       "      <td>1.869720</td>\n",
       "      <td>...</td>\n",
       "      <td>-2.714286</td>\n",
       "      <td>-1.111620</td>\n",
       "      <td>-2.823141</td>\n",
       "      <td>-2.893775</td>\n",
       "      <td>-2.923860</td>\n",
       "      <td>-0.873279</td>\n",
       "      <td>-0.706149</td>\n",
       "      <td>-1.600766</td>\n",
       "      <td>-2.869759</td>\n",
       "      <td>-2.518638</td>\n",
       "    </tr>\n",
       "    <tr>\n",
       "      <th>1</th>\n",
       "      <td>-1.648121</td>\n",
       "      <td>-0.281934</td>\n",
       "      <td>0.555334</td>\n",
       "      <td>0.190896</td>\n",
       "      <td>-1.836594</td>\n",
       "      <td>-0.365756</td>\n",
       "      <td>0.079309</td>\n",
       "      <td>0.915515</td>\n",
       "      <td>-0.950561</td>\n",
       "      <td>-1.790204</td>\n",
       "      <td>...</td>\n",
       "      <td>-0.428282</td>\n",
       "      <td>0.079813</td>\n",
       "      <td>-0.700163</td>\n",
       "      <td>-0.097827</td>\n",
       "      <td>1.014562</td>\n",
       "      <td>-0.459890</td>\n",
       "      <td>1.411865</td>\n",
       "      <td>0.339830</td>\n",
       "      <td>0.156715</td>\n",
       "      <td>-0.562652</td>\n",
       "    </tr>\n",
       "    <tr>\n",
       "      <th>2</th>\n",
       "      <td>1.691372</td>\n",
       "      <td>3.662371</td>\n",
       "      <td>2.671944</td>\n",
       "      <td>1.135997</td>\n",
       "      <td>2.091421</td>\n",
       "      <td>0.877613</td>\n",
       "      <td>1.010775</td>\n",
       "      <td>3.168069</td>\n",
       "      <td>2.959763</td>\n",
       "      <td>2.536918</td>\n",
       "      <td>...</td>\n",
       "      <td>1.855441</td>\n",
       "      <td>1.646922</td>\n",
       "      <td>2.469645</td>\n",
       "      <td>1.205140</td>\n",
       "      <td>1.237888</td>\n",
       "      <td>2.842341</td>\n",
       "      <td>0.756246</td>\n",
       "      <td>3.042892</td>\n",
       "      <td>0.678486</td>\n",
       "      <td>0.958906</td>\n",
       "    </tr>\n",
       "    <tr>\n",
       "      <th>3</th>\n",
       "      <td>1.189148</td>\n",
       "      <td>-0.466820</td>\n",
       "      <td>-0.986145</td>\n",
       "      <td>0.883392</td>\n",
       "      <td>0.535321</td>\n",
       "      <td>0.722329</td>\n",
       "      <td>0.740711</td>\n",
       "      <td>0.468691</td>\n",
       "      <td>1.532867</td>\n",
       "      <td>-0.060411</td>\n",
       "      <td>...</td>\n",
       "      <td>-0.315214</td>\n",
       "      <td>0.493392</td>\n",
       "      <td>0.673201</td>\n",
       "      <td>0.179843</td>\n",
       "      <td>-0.232697</td>\n",
       "      <td>0.023472</td>\n",
       "      <td>-0.442065</td>\n",
       "      <td>-0.176665</td>\n",
       "      <td>-0.645257</td>\n",
       "      <td>-0.606135</td>\n",
       "    </tr>\n",
       "    <tr>\n",
       "      <th>4</th>\n",
       "      <td>1.280229</td>\n",
       "      <td>-0.342652</td>\n",
       "      <td>0.582569</td>\n",
       "      <td>1.033902</td>\n",
       "      <td>0.472276</td>\n",
       "      <td>1.334079</td>\n",
       "      <td>1.065278</td>\n",
       "      <td>0.066574</td>\n",
       "      <td>0.643811</td>\n",
       "      <td>1.727726</td>\n",
       "      <td>...</td>\n",
       "      <td>0.647523</td>\n",
       "      <td>1.757420</td>\n",
       "      <td>1.109722</td>\n",
       "      <td>0.386499</td>\n",
       "      <td>1.516402</td>\n",
       "      <td>1.163869</td>\n",
       "      <td>3.001027</td>\n",
       "      <td>2.837142</td>\n",
       "      <td>1.000671</td>\n",
       "      <td>1.158106</td>\n",
       "    </tr>\n",
       "    <tr>\n",
       "      <th>...</th>\n",
       "      <td>...</td>\n",
       "      <td>...</td>\n",
       "      <td>...</td>\n",
       "      <td>...</td>\n",
       "      <td>...</td>\n",
       "      <td>...</td>\n",
       "      <td>...</td>\n",
       "      <td>...</td>\n",
       "      <td>...</td>\n",
       "      <td>...</td>\n",
       "      <td>...</td>\n",
       "      <td>...</td>\n",
       "      <td>...</td>\n",
       "      <td>...</td>\n",
       "      <td>...</td>\n",
       "      <td>...</td>\n",
       "      <td>...</td>\n",
       "      <td>...</td>\n",
       "      <td>...</td>\n",
       "      <td>...</td>\n",
       "      <td>...</td>\n",
       "    </tr>\n",
       "    <tr>\n",
       "      <th>247</th>\n",
       "      <td>-0.104603</td>\n",
       "      <td>-0.134523</td>\n",
       "      <td>0.711893</td>\n",
       "      <td>-0.083192</td>\n",
       "      <td>0.218941</td>\n",
       "      <td>0.149325</td>\n",
       "      <td>0.359520</td>\n",
       "      <td>0.026775</td>\n",
       "      <td>0.249436</td>\n",
       "      <td>-0.397224</td>\n",
       "      <td>...</td>\n",
       "      <td>0.640024</td>\n",
       "      <td>-0.106593</td>\n",
       "      <td>-0.351541</td>\n",
       "      <td>-0.257130</td>\n",
       "      <td>-0.176423</td>\n",
       "      <td>-0.221397</td>\n",
       "      <td>-0.421391</td>\n",
       "      <td>-0.092192</td>\n",
       "      <td>0.030983</td>\n",
       "      <td>0.310436</td>\n",
       "    </tr>\n",
       "    <tr>\n",
       "      <th>248</th>\n",
       "      <td>0.015998</td>\n",
       "      <td>0.588897</td>\n",
       "      <td>0.722673</td>\n",
       "      <td>-0.144835</td>\n",
       "      <td>0.119547</td>\n",
       "      <td>0.339001</td>\n",
       "      <td>0.174793</td>\n",
       "      <td>0.343439</td>\n",
       "      <td>-0.068647</td>\n",
       "      <td>0.638995</td>\n",
       "      <td>...</td>\n",
       "      <td>0.506895</td>\n",
       "      <td>-0.318861</td>\n",
       "      <td>-1.229249</td>\n",
       "      <td>0.169130</td>\n",
       "      <td>0.069578</td>\n",
       "      <td>-0.358885</td>\n",
       "      <td>-0.115762</td>\n",
       "      <td>0.539379</td>\n",
       "      <td>0.018593</td>\n",
       "      <td>-0.247594</td>\n",
       "    </tr>\n",
       "    <tr>\n",
       "      <th>249</th>\n",
       "      <td>0.181104</td>\n",
       "      <td>-0.467184</td>\n",
       "      <td>0.143697</td>\n",
       "      <td>0.950488</td>\n",
       "      <td>-0.057506</td>\n",
       "      <td>-0.296845</td>\n",
       "      <td>-0.372216</td>\n",
       "      <td>-0.303653</td>\n",
       "      <td>-0.084518</td>\n",
       "      <td>-0.016517</td>\n",
       "      <td>...</td>\n",
       "      <td>0.094752</td>\n",
       "      <td>-0.248689</td>\n",
       "      <td>-0.002003</td>\n",
       "      <td>-0.175838</td>\n",
       "      <td>-0.153003</td>\n",
       "      <td>-0.139246</td>\n",
       "      <td>0.332582</td>\n",
       "      <td>-0.000143</td>\n",
       "      <td>0.537601</td>\n",
       "      <td>0.459047</td>\n",
       "    </tr>\n",
       "    <tr>\n",
       "      <th>250</th>\n",
       "      <td>-0.277238</td>\n",
       "      <td>-0.249340</td>\n",
       "      <td>0.050812</td>\n",
       "      <td>-0.964075</td>\n",
       "      <td>-1.060581</td>\n",
       "      <td>-0.650883</td>\n",
       "      <td>-0.521253</td>\n",
       "      <td>-0.812581</td>\n",
       "      <td>-0.652016</td>\n",
       "      <td>-1.126907</td>\n",
       "      <td>...</td>\n",
       "      <td>-0.711167</td>\n",
       "      <td>0.776759</td>\n",
       "      <td>-0.002003</td>\n",
       "      <td>0.108061</td>\n",
       "      <td>0.431981</td>\n",
       "      <td>0.299884</td>\n",
       "      <td>-0.402710</td>\n",
       "      <td>-0.027646</td>\n",
       "      <td>-0.307860</td>\n",
       "      <td>0.175302</td>\n",
       "    </tr>\n",
       "    <tr>\n",
       "      <th>251</th>\n",
       "      <td>0.360671</td>\n",
       "      <td>0.149385</td>\n",
       "      <td>-0.485242</td>\n",
       "      <td>0.345585</td>\n",
       "      <td>0.344610</td>\n",
       "      <td>-0.090828</td>\n",
       "      <td>-0.099049</td>\n",
       "      <td>0.041127</td>\n",
       "      <td>0.179899</td>\n",
       "      <td>0.133017</td>\n",
       "      <td>...</td>\n",
       "      <td>0.241149</td>\n",
       "      <td>1.083570</td>\n",
       "      <td>0.966624</td>\n",
       "      <td>0.693001</td>\n",
       "      <td>0.754691</td>\n",
       "      <td>0.461651</td>\n",
       "      <td>0.456081</td>\n",
       "      <td>0.151416</td>\n",
       "      <td>-0.066703</td>\n",
       "      <td>0.227045</td>\n",
       "    </tr>\n",
       "  </tbody>\n",
       "</table>\n",
       "<p>252 rows × 488 columns</p>\n",
       "</div>"
      ],
      "text/plain": [
       "         ATVI      CHTR     CMCSA       CTL       DIS     DISCA     DISCK  \\\n",
       "0    0.391715  0.623274  0.682788  0.772755 -0.527091  2.214992  1.736882   \n",
       "1   -1.648121 -0.281934  0.555334  0.190896 -1.836594 -0.365756  0.079309   \n",
       "2    1.691372  3.662371  2.671944  1.135997  2.091421  0.877613  1.010775   \n",
       "3    1.189148 -0.466820 -0.986145  0.883392  0.535321  0.722329  0.740711   \n",
       "4    1.280229 -0.342652  0.582569  1.033902  0.472276  1.334079  1.065278   \n",
       "..        ...       ...       ...       ...       ...       ...       ...   \n",
       "247 -0.104603 -0.134523  0.711893 -0.083192  0.218941  0.149325  0.359520   \n",
       "248  0.015998  0.588897  0.722673 -0.144835  0.119547  0.339001  0.174793   \n",
       "249  0.181104 -0.467184  0.143697  0.950488 -0.057506 -0.296845 -0.372216   \n",
       "250 -0.277238 -0.249340  0.050812 -0.964075 -1.060581 -0.650883 -0.521253   \n",
       "251  0.360671  0.149385 -0.485242  0.345585  0.344610 -0.090828 -0.099049   \n",
       "\n",
       "         DISH        EA        FB  ...       NEE        NI       NRG  \\\n",
       "0    1.635478  0.735811  1.869720  ... -2.714286 -1.111620 -2.823141   \n",
       "1    0.915515 -0.950561 -1.790204  ... -0.428282  0.079813 -0.700163   \n",
       "2    3.168069  2.959763  2.536918  ...  1.855441  1.646922  2.469645   \n",
       "3    0.468691  1.532867 -0.060411  ... -0.315214  0.493392  0.673201   \n",
       "4    0.066574  0.643811  1.727726  ...  0.647523  1.757420  1.109722   \n",
       "..        ...       ...       ...  ...       ...       ...       ...   \n",
       "247  0.026775  0.249436 -0.397224  ...  0.640024 -0.106593 -0.351541   \n",
       "248  0.343439 -0.068647  0.638995  ...  0.506895 -0.318861 -1.229249   \n",
       "249 -0.303653 -0.084518 -0.016517  ...  0.094752 -0.248689 -0.002003   \n",
       "250 -0.812581 -0.652016 -1.126907  ... -0.711167  0.776759 -0.002003   \n",
       "251  0.041127  0.179899  0.133017  ...  0.241149  1.083570  0.966624   \n",
       "\n",
       "          PEG       PNW       PPL        SO       SRE       WEC       XEL  \n",
       "0   -2.893775 -2.923860 -0.873279 -0.706149 -1.600766 -2.869759 -2.518638  \n",
       "1   -0.097827  1.014562 -0.459890  1.411865  0.339830  0.156715 -0.562652  \n",
       "2    1.205140  1.237888  2.842341  0.756246  3.042892  0.678486  0.958906  \n",
       "3    0.179843 -0.232697  0.023472 -0.442065 -0.176665 -0.645257 -0.606135  \n",
       "4    0.386499  1.516402  1.163869  3.001027  2.837142  1.000671  1.158106  \n",
       "..        ...       ...       ...       ...       ...       ...       ...  \n",
       "247 -0.257130 -0.176423 -0.221397 -0.421391 -0.092192  0.030983  0.310436  \n",
       "248  0.169130  0.069578 -0.358885 -0.115762  0.539379  0.018593 -0.247594  \n",
       "249 -0.175838 -0.153003 -0.139246  0.332582 -0.000143  0.537601  0.459047  \n",
       "250  0.108061  0.431981  0.299884 -0.402710 -0.027646 -0.307860  0.175302  \n",
       "251  0.693001  0.754691  0.461651  0.456081  0.151416 -0.066703  0.227045  \n",
       "\n",
       "[252 rows x 488 columns]"
      ]
     },
     "execution_count": 167,
     "metadata": {},
     "output_type": "execute_result"
    }
   ],
   "source": [
    "# code for question 21\n",
    "\n",
    "sp500_standardized_returns = (df-df.mean())/df.std()\n",
    "sp500_standardized_returns"
   ]
  },
  {
   "cell_type": "markdown",
   "metadata": {
    "id": "xOvFVvCGo3MQ"
   },
   "source": [
    "### 22. Perform SVD on `sp500_standardized_returns` data and save the singular values in an array called `singvals_standardized_returns`."
   ]
  },
  {
   "cell_type": "code",
   "execution_count": 168,
   "metadata": {
    "id": "iMcbU-mxo3MQ"
   },
   "outputs": [],
   "source": [
    "# code for question 22\n",
    "\n",
    "U, singvals_standardized_returns, V = npla.svd(sp500_standardized_returns)"
   ]
  },
  {
   "cell_type": "markdown",
   "metadata": {
    "id": "xtmQtNexo3MS"
   },
   "source": [
    "### 23. Compute the correlation matrix of the S&P 500 returns and save the result as a `DataFrame` called `sp500_corr`. It is easiest to use the built in `pandas` method to compute correlation matrices. "
   ]
  },
  {
   "cell_type": "code",
   "execution_count": 169,
   "metadata": {
    "id": "a113a18Ho3MU"
   },
   "outputs": [
    {
     "data": {
      "text/html": [
       "<div>\n",
       "<style scoped>\n",
       "    .dataframe tbody tr th:only-of-type {\n",
       "        vertical-align: middle;\n",
       "    }\n",
       "\n",
       "    .dataframe tbody tr th {\n",
       "        vertical-align: top;\n",
       "    }\n",
       "\n",
       "    .dataframe thead th {\n",
       "        text-align: right;\n",
       "    }\n",
       "</style>\n",
       "<table border=\"1\" class=\"dataframe\">\n",
       "  <thead>\n",
       "    <tr style=\"text-align: right;\">\n",
       "      <th></th>\n",
       "      <th>ATVI</th>\n",
       "      <th>CHTR</th>\n",
       "      <th>CMCSA</th>\n",
       "      <th>CTL</th>\n",
       "      <th>DIS</th>\n",
       "      <th>DISCA</th>\n",
       "      <th>DISCK</th>\n",
       "      <th>DISH</th>\n",
       "      <th>EA</th>\n",
       "      <th>FB</th>\n",
       "      <th>...</th>\n",
       "      <th>NEE</th>\n",
       "      <th>NI</th>\n",
       "      <th>NRG</th>\n",
       "      <th>PEG</th>\n",
       "      <th>PNW</th>\n",
       "      <th>PPL</th>\n",
       "      <th>SO</th>\n",
       "      <th>SRE</th>\n",
       "      <th>WEC</th>\n",
       "      <th>XEL</th>\n",
       "    </tr>\n",
       "  </thead>\n",
       "  <tbody>\n",
       "    <tr>\n",
       "      <th>ATVI</th>\n",
       "      <td>1.000000</td>\n",
       "      <td>0.206918</td>\n",
       "      <td>0.262801</td>\n",
       "      <td>0.077612</td>\n",
       "      <td>0.204631</td>\n",
       "      <td>0.167902</td>\n",
       "      <td>0.182100</td>\n",
       "      <td>0.136099</td>\n",
       "      <td>0.563535</td>\n",
       "      <td>0.372576</td>\n",
       "      <td>...</td>\n",
       "      <td>0.012736</td>\n",
       "      <td>0.183840</td>\n",
       "      <td>0.148949</td>\n",
       "      <td>0.061486</td>\n",
       "      <td>0.043167</td>\n",
       "      <td>0.068130</td>\n",
       "      <td>0.027154</td>\n",
       "      <td>0.114697</td>\n",
       "      <td>0.010774</td>\n",
       "      <td>0.038000</td>\n",
       "    </tr>\n",
       "    <tr>\n",
       "      <th>CHTR</th>\n",
       "      <td>0.206918</td>\n",
       "      <td>1.000000</td>\n",
       "      <td>0.505437</td>\n",
       "      <td>0.154453</td>\n",
       "      <td>0.269021</td>\n",
       "      <td>0.297209</td>\n",
       "      <td>0.304711</td>\n",
       "      <td>0.356974</td>\n",
       "      <td>0.210798</td>\n",
       "      <td>0.467210</td>\n",
       "      <td>...</td>\n",
       "      <td>0.171468</td>\n",
       "      <td>0.146685</td>\n",
       "      <td>0.214851</td>\n",
       "      <td>0.207329</td>\n",
       "      <td>0.083723</td>\n",
       "      <td>0.143166</td>\n",
       "      <td>0.082080</td>\n",
       "      <td>0.185263</td>\n",
       "      <td>0.138888</td>\n",
       "      <td>0.184257</td>\n",
       "    </tr>\n",
       "    <tr>\n",
       "      <th>CMCSA</th>\n",
       "      <td>0.262801</td>\n",
       "      <td>0.505437</td>\n",
       "      <td>1.000000</td>\n",
       "      <td>0.176776</td>\n",
       "      <td>0.369520</td>\n",
       "      <td>0.347829</td>\n",
       "      <td>0.354896</td>\n",
       "      <td>0.362213</td>\n",
       "      <td>0.165238</td>\n",
       "      <td>0.353877</td>\n",
       "      <td>...</td>\n",
       "      <td>0.123246</td>\n",
       "      <td>0.204658</td>\n",
       "      <td>0.225813</td>\n",
       "      <td>0.213148</td>\n",
       "      <td>0.150910</td>\n",
       "      <td>0.232142</td>\n",
       "      <td>0.130291</td>\n",
       "      <td>0.169756</td>\n",
       "      <td>0.105805</td>\n",
       "      <td>0.193725</td>\n",
       "    </tr>\n",
       "    <tr>\n",
       "      <th>CTL</th>\n",
       "      <td>0.077612</td>\n",
       "      <td>0.154453</td>\n",
       "      <td>0.176776</td>\n",
       "      <td>1.000000</td>\n",
       "      <td>0.105414</td>\n",
       "      <td>0.365380</td>\n",
       "      <td>0.371403</td>\n",
       "      <td>0.194719</td>\n",
       "      <td>0.144104</td>\n",
       "      <td>0.097236</td>\n",
       "      <td>...</td>\n",
       "      <td>-0.099621</td>\n",
       "      <td>-0.038359</td>\n",
       "      <td>0.088011</td>\n",
       "      <td>-0.080473</td>\n",
       "      <td>-0.176768</td>\n",
       "      <td>0.125933</td>\n",
       "      <td>-0.061925</td>\n",
       "      <td>0.024476</td>\n",
       "      <td>-0.169695</td>\n",
       "      <td>-0.117967</td>\n",
       "    </tr>\n",
       "    <tr>\n",
       "      <th>DIS</th>\n",
       "      <td>0.204631</td>\n",
       "      <td>0.269021</td>\n",
       "      <td>0.369520</td>\n",
       "      <td>0.105414</td>\n",
       "      <td>1.000000</td>\n",
       "      <td>0.267041</td>\n",
       "      <td>0.294375</td>\n",
       "      <td>0.236062</td>\n",
       "      <td>0.162910</td>\n",
       "      <td>0.251893</td>\n",
       "      <td>...</td>\n",
       "      <td>0.142103</td>\n",
       "      <td>0.183875</td>\n",
       "      <td>0.128499</td>\n",
       "      <td>0.174423</td>\n",
       "      <td>0.110018</td>\n",
       "      <td>0.094228</td>\n",
       "      <td>0.150702</td>\n",
       "      <td>0.249978</td>\n",
       "      <td>0.119923</td>\n",
       "      <td>0.195905</td>\n",
       "    </tr>\n",
       "    <tr>\n",
       "      <th>...</th>\n",
       "      <td>...</td>\n",
       "      <td>...</td>\n",
       "      <td>...</td>\n",
       "      <td>...</td>\n",
       "      <td>...</td>\n",
       "      <td>...</td>\n",
       "      <td>...</td>\n",
       "      <td>...</td>\n",
       "      <td>...</td>\n",
       "      <td>...</td>\n",
       "      <td>...</td>\n",
       "      <td>...</td>\n",
       "      <td>...</td>\n",
       "      <td>...</td>\n",
       "      <td>...</td>\n",
       "      <td>...</td>\n",
       "      <td>...</td>\n",
       "      <td>...</td>\n",
       "      <td>...</td>\n",
       "      <td>...</td>\n",
       "      <td>...</td>\n",
       "    </tr>\n",
       "    <tr>\n",
       "      <th>PPL</th>\n",
       "      <td>0.068130</td>\n",
       "      <td>0.143166</td>\n",
       "      <td>0.232142</td>\n",
       "      <td>0.125933</td>\n",
       "      <td>0.094228</td>\n",
       "      <td>0.119023</td>\n",
       "      <td>0.107557</td>\n",
       "      <td>0.155584</td>\n",
       "      <td>0.186064</td>\n",
       "      <td>0.110712</td>\n",
       "      <td>...</td>\n",
       "      <td>0.443621</td>\n",
       "      <td>0.418001</td>\n",
       "      <td>0.348481</td>\n",
       "      <td>0.508400</td>\n",
       "      <td>0.480013</td>\n",
       "      <td>1.000000</td>\n",
       "      <td>0.453733</td>\n",
       "      <td>0.440528</td>\n",
       "      <td>0.399896</td>\n",
       "      <td>0.493804</td>\n",
       "    </tr>\n",
       "    <tr>\n",
       "      <th>SO</th>\n",
       "      <td>0.027154</td>\n",
       "      <td>0.082080</td>\n",
       "      <td>0.130291</td>\n",
       "      <td>-0.061925</td>\n",
       "      <td>0.150702</td>\n",
       "      <td>-0.108276</td>\n",
       "      <td>-0.099986</td>\n",
       "      <td>0.067194</td>\n",
       "      <td>0.164438</td>\n",
       "      <td>0.034642</td>\n",
       "      <td>...</td>\n",
       "      <td>0.659916</td>\n",
       "      <td>0.610121</td>\n",
       "      <td>0.328128</td>\n",
       "      <td>0.638657</td>\n",
       "      <td>0.659016</td>\n",
       "      <td>0.453733</td>\n",
       "      <td>1.000000</td>\n",
       "      <td>0.549019</td>\n",
       "      <td>0.686294</td>\n",
       "      <td>0.708542</td>\n",
       "    </tr>\n",
       "    <tr>\n",
       "      <th>SRE</th>\n",
       "      <td>0.114697</td>\n",
       "      <td>0.185263</td>\n",
       "      <td>0.169756</td>\n",
       "      <td>0.024476</td>\n",
       "      <td>0.249978</td>\n",
       "      <td>0.038471</td>\n",
       "      <td>0.055280</td>\n",
       "      <td>0.187340</td>\n",
       "      <td>0.137067</td>\n",
       "      <td>0.192123</td>\n",
       "      <td>...</td>\n",
       "      <td>0.598093</td>\n",
       "      <td>0.576184</td>\n",
       "      <td>0.350399</td>\n",
       "      <td>0.587285</td>\n",
       "      <td>0.552758</td>\n",
       "      <td>0.440528</td>\n",
       "      <td>0.549019</td>\n",
       "      <td>1.000000</td>\n",
       "      <td>0.569076</td>\n",
       "      <td>0.632961</td>\n",
       "    </tr>\n",
       "    <tr>\n",
       "      <th>WEC</th>\n",
       "      <td>0.010774</td>\n",
       "      <td>0.138888</td>\n",
       "      <td>0.105805</td>\n",
       "      <td>-0.169695</td>\n",
       "      <td>0.119923</td>\n",
       "      <td>-0.172918</td>\n",
       "      <td>-0.169914</td>\n",
       "      <td>0.008132</td>\n",
       "      <td>0.084299</td>\n",
       "      <td>0.022637</td>\n",
       "      <td>...</td>\n",
       "      <td>0.797358</td>\n",
       "      <td>0.660328</td>\n",
       "      <td>0.324822</td>\n",
       "      <td>0.668398</td>\n",
       "      <td>0.796743</td>\n",
       "      <td>0.399896</td>\n",
       "      <td>0.686294</td>\n",
       "      <td>0.569076</td>\n",
       "      <td>1.000000</td>\n",
       "      <td>0.889519</td>\n",
       "    </tr>\n",
       "    <tr>\n",
       "      <th>XEL</th>\n",
       "      <td>0.038000</td>\n",
       "      <td>0.184257</td>\n",
       "      <td>0.193725</td>\n",
       "      <td>-0.117967</td>\n",
       "      <td>0.195905</td>\n",
       "      <td>-0.110884</td>\n",
       "      <td>-0.109743</td>\n",
       "      <td>0.044894</td>\n",
       "      <td>0.099955</td>\n",
       "      <td>0.083992</td>\n",
       "      <td>...</td>\n",
       "      <td>0.805189</td>\n",
       "      <td>0.655178</td>\n",
       "      <td>0.375721</td>\n",
       "      <td>0.687793</td>\n",
       "      <td>0.757116</td>\n",
       "      <td>0.493804</td>\n",
       "      <td>0.708542</td>\n",
       "      <td>0.632961</td>\n",
       "      <td>0.889519</td>\n",
       "      <td>1.000000</td>\n",
       "    </tr>\n",
       "  </tbody>\n",
       "</table>\n",
       "<p>488 rows × 488 columns</p>\n",
       "</div>"
      ],
      "text/plain": [
       "           ATVI      CHTR     CMCSA       CTL       DIS     DISCA     DISCK  \\\n",
       "ATVI   1.000000  0.206918  0.262801  0.077612  0.204631  0.167902  0.182100   \n",
       "CHTR   0.206918  1.000000  0.505437  0.154453  0.269021  0.297209  0.304711   \n",
       "CMCSA  0.262801  0.505437  1.000000  0.176776  0.369520  0.347829  0.354896   \n",
       "CTL    0.077612  0.154453  0.176776  1.000000  0.105414  0.365380  0.371403   \n",
       "DIS    0.204631  0.269021  0.369520  0.105414  1.000000  0.267041  0.294375   \n",
       "...         ...       ...       ...       ...       ...       ...       ...   \n",
       "PPL    0.068130  0.143166  0.232142  0.125933  0.094228  0.119023  0.107557   \n",
       "SO     0.027154  0.082080  0.130291 -0.061925  0.150702 -0.108276 -0.099986   \n",
       "SRE    0.114697  0.185263  0.169756  0.024476  0.249978  0.038471  0.055280   \n",
       "WEC    0.010774  0.138888  0.105805 -0.169695  0.119923 -0.172918 -0.169914   \n",
       "XEL    0.038000  0.184257  0.193725 -0.117967  0.195905 -0.110884 -0.109743   \n",
       "\n",
       "           DISH        EA        FB  ...       NEE        NI       NRG  \\\n",
       "ATVI   0.136099  0.563535  0.372576  ...  0.012736  0.183840  0.148949   \n",
       "CHTR   0.356974  0.210798  0.467210  ...  0.171468  0.146685  0.214851   \n",
       "CMCSA  0.362213  0.165238  0.353877  ...  0.123246  0.204658  0.225813   \n",
       "CTL    0.194719  0.144104  0.097236  ... -0.099621 -0.038359  0.088011   \n",
       "DIS    0.236062  0.162910  0.251893  ...  0.142103  0.183875  0.128499   \n",
       "...         ...       ...       ...  ...       ...       ...       ...   \n",
       "PPL    0.155584  0.186064  0.110712  ...  0.443621  0.418001  0.348481   \n",
       "SO     0.067194  0.164438  0.034642  ...  0.659916  0.610121  0.328128   \n",
       "SRE    0.187340  0.137067  0.192123  ...  0.598093  0.576184  0.350399   \n",
       "WEC    0.008132  0.084299  0.022637  ...  0.797358  0.660328  0.324822   \n",
       "XEL    0.044894  0.099955  0.083992  ...  0.805189  0.655178  0.375721   \n",
       "\n",
       "            PEG       PNW       PPL        SO       SRE       WEC       XEL  \n",
       "ATVI   0.061486  0.043167  0.068130  0.027154  0.114697  0.010774  0.038000  \n",
       "CHTR   0.207329  0.083723  0.143166  0.082080  0.185263  0.138888  0.184257  \n",
       "CMCSA  0.213148  0.150910  0.232142  0.130291  0.169756  0.105805  0.193725  \n",
       "CTL   -0.080473 -0.176768  0.125933 -0.061925  0.024476 -0.169695 -0.117967  \n",
       "DIS    0.174423  0.110018  0.094228  0.150702  0.249978  0.119923  0.195905  \n",
       "...         ...       ...       ...       ...       ...       ...       ...  \n",
       "PPL    0.508400  0.480013  1.000000  0.453733  0.440528  0.399896  0.493804  \n",
       "SO     0.638657  0.659016  0.453733  1.000000  0.549019  0.686294  0.708542  \n",
       "SRE    0.587285  0.552758  0.440528  0.549019  1.000000  0.569076  0.632961  \n",
       "WEC    0.668398  0.796743  0.399896  0.686294  0.569076  1.000000  0.889519  \n",
       "XEL    0.687793  0.757116  0.493804  0.708542  0.632961  0.889519  1.000000  \n",
       "\n",
       "[488 rows x 488 columns]"
      ]
     },
     "execution_count": 169,
     "metadata": {},
     "output_type": "execute_result"
    }
   ],
   "source": [
    "# code for question 23\n",
    "\n",
    "sp500_corr = sp500_standardized_returns.corr()\n",
    "sp500_corr"
   ]
  },
  {
   "cell_type": "markdown",
   "metadata": {
    "id": "2Hwcv--io3MU"
   },
   "source": [
    "### 24. Compute the eigenvalues and eigenvectors of the correlation matrix. Save the results in arrays called `eigvals_corr` and `eigvecs_corr`. How are the eigenvalues of `sp500_corr` related to the singular values of `sp500_standardized_returns`? You should derive this result theoretically."
   ]
  },
  {
   "cell_type": "code",
   "execution_count": 170,
   "metadata": {
    "id": "5AkzRW57o3MV"
   },
   "outputs": [
    {
     "data": {
      "text/plain": [
       "array([ 1.37288012e+02+0.00000000e+00j,  4.53638240e+01+0.00000000e+00j,\n",
       "        1.42214954e+01+0.00000000e+00j,  1.04253977e+01+0.00000000e+00j,\n",
       "        8.59846542e+00+0.00000000e+00j,  7.62168512e+00+0.00000000e+00j,\n",
       "        7.04326569e+00+0.00000000e+00j,  6.20274367e+00+0.00000000e+00j,\n",
       "        5.96471216e+00+0.00000000e+00j,  5.00645381e+00+0.00000000e+00j,\n",
       "        4.68743525e+00+0.00000000e+00j,  4.49734331e+00+0.00000000e+00j,\n",
       "        4.37701758e+00+0.00000000e+00j,  4.27054905e+00+0.00000000e+00j,\n",
       "        3.87547109e+00+0.00000000e+00j,  3.76929768e+00+0.00000000e+00j,\n",
       "        3.70581553e+00+0.00000000e+00j,  3.60669707e+00+0.00000000e+00j,\n",
       "        3.50852501e+00+0.00000000e+00j,  3.32348541e+00+0.00000000e+00j,\n",
       "        3.24546454e+00+0.00000000e+00j,  3.16999567e+00+0.00000000e+00j,\n",
       "        3.12667234e+00+0.00000000e+00j,  3.09509993e+00+0.00000000e+00j,\n",
       "        3.00220365e+00+0.00000000e+00j,  2.84148481e+00+0.00000000e+00j,\n",
       "        2.82559746e+00+0.00000000e+00j,  2.76180527e+00+0.00000000e+00j,\n",
       "        2.72403701e+00+0.00000000e+00j,  2.64257943e+00+0.00000000e+00j,\n",
       "        2.62335089e+00+0.00000000e+00j,  2.54838268e+00+0.00000000e+00j,\n",
       "        2.49499585e+00+0.00000000e+00j,  2.47229592e+00+0.00000000e+00j,\n",
       "        2.42048376e+00+0.00000000e+00j,  2.38011181e+00+0.00000000e+00j,\n",
       "        2.30708346e+00+0.00000000e+00j,  2.27021429e+00+0.00000000e+00j,\n",
       "        2.23985970e+00+0.00000000e+00j,  2.19739697e+00+0.00000000e+00j,\n",
       "        2.16463431e+00+0.00000000e+00j,  2.13725462e+00+0.00000000e+00j,\n",
       "        2.12310062e+00+0.00000000e+00j,  2.11629889e+00+0.00000000e+00j,\n",
       "        2.05035649e+00+0.00000000e+00j,  2.03365318e+00+0.00000000e+00j,\n",
       "        1.97738231e+00+0.00000000e+00j,  1.95544273e+00+0.00000000e+00j,\n",
       "        1.93296341e+00+0.00000000e+00j,  1.87661608e+00+0.00000000e+00j,\n",
       "        1.85492646e+00+0.00000000e+00j,  1.86402698e+00+0.00000000e+00j,\n",
       "        1.80872864e+00+0.00000000e+00j,  1.77027285e+00+0.00000000e+00j,\n",
       "        1.74191275e+00+0.00000000e+00j,  1.71839829e+00+0.00000000e+00j,\n",
       "        1.70163095e+00+0.00000000e+00j,  1.36331896e+00+0.00000000e+00j,\n",
       "        1.37601785e+00+0.00000000e+00j,  1.63254172e+00+0.00000000e+00j,\n",
       "        1.62757925e+00+0.00000000e+00j,  1.61135184e+00+0.00000000e+00j,\n",
       "        1.58973663e+00+0.00000000e+00j,  1.58080659e+00+0.00000000e+00j,\n",
       "        1.56113955e+00+0.00000000e+00j,  1.54910732e+00+0.00000000e+00j,\n",
       "        1.53079990e+00+0.00000000e+00j,  1.41368129e+00+0.00000000e+00j,\n",
       "        1.43945314e+00+0.00000000e+00j,  1.46086456e+00+0.00000000e+00j,\n",
       "        1.49957582e+00+0.00000000e+00j,  1.48336453e+00+0.00000000e+00j,\n",
       "        1.49286166e+00+0.00000000e+00j,  1.38445286e+00+0.00000000e+00j,\n",
       "        1.34570731e+00+0.00000000e+00j,  1.32920794e+00+0.00000000e+00j,\n",
       "        1.31490974e+00+0.00000000e+00j,  1.27816440e+00+0.00000000e+00j,\n",
       "        1.26143242e+00+0.00000000e+00j,  1.23927378e+00+0.00000000e+00j,\n",
       "        1.22495538e+00+0.00000000e+00j,  1.21929470e+00+0.00000000e+00j,\n",
       "        1.19978307e+00+0.00000000e+00j,  1.19380580e+00+0.00000000e+00j,\n",
       "        1.18127885e+00+0.00000000e+00j,  9.37880296e-01+0.00000000e+00j,\n",
       "        1.14876036e+00+0.00000000e+00j,  1.14195638e+00+0.00000000e+00j,\n",
       "        1.13713521e+00+0.00000000e+00j,  9.60468788e-01+0.00000000e+00j,\n",
       "        9.70212686e-01+0.00000000e+00j,  9.82240297e-01+0.00000000e+00j,\n",
       "        1.11569310e+00+0.00000000e+00j,  1.10417458e+00+0.00000000e+00j,\n",
       "        1.09078878e+00+0.00000000e+00j,  1.00665631e+00+0.00000000e+00j,\n",
       "        1.02147865e+00+0.00000000e+00j,  1.03082894e+00+0.00000000e+00j,\n",
       "        1.07916631e+00+0.00000000e+00j,  1.05306472e+00+0.00000000e+00j,\n",
       "        1.05792279e+00+0.00000000e+00j,  1.06779433e+00+0.00000000e+00j,\n",
       "        9.24717429e-01+0.00000000e+00j,  9.15495115e-01+0.00000000e+00j,\n",
       "        9.09086327e-01+0.00000000e+00j,  9.00102743e-01+0.00000000e+00j,\n",
       "        8.87138267e-01+0.00000000e+00j,  8.67377325e-01+0.00000000e+00j,\n",
       "        8.64026441e-01+0.00000000e+00j,  8.57402769e-01+0.00000000e+00j,\n",
       "        8.49272308e-01+0.00000000e+00j,  8.35030651e-01+0.00000000e+00j,\n",
       "        8.22368332e-01+0.00000000e+00j,  8.08601071e-01+0.00000000e+00j,\n",
       "        7.98251104e-01+0.00000000e+00j,  7.94809370e-01+0.00000000e+00j,\n",
       "        7.74830131e-01+0.00000000e+00j,  7.67423994e-01+0.00000000e+00j,\n",
       "        7.55600039e-01+0.00000000e+00j,  7.07867334e-01+0.00000000e+00j,\n",
       "        7.46764994e-01+0.00000000e+00j,  7.17884064e-01+0.00000000e+00j,\n",
       "        7.32957178e-01+0.00000000e+00j,  7.24883232e-01+0.00000000e+00j,\n",
       "        6.90069429e-01+0.00000000e+00j,  6.82127809e-01+0.00000000e+00j,\n",
       "        6.73839033e-01+0.00000000e+00j,  6.68586464e-01+0.00000000e+00j,\n",
       "        6.57123573e-01+0.00000000e+00j,  6.54413824e-01+0.00000000e+00j,\n",
       "        6.39248715e-01+0.00000000e+00j,  6.34648069e-01+0.00000000e+00j,\n",
       "        6.23376546e-01+0.00000000e+00j,  6.11532248e-01+0.00000000e+00j,\n",
       "        6.05756024e-01+0.00000000e+00j,  6.02705591e-01+0.00000000e+00j,\n",
       "        5.90692253e-01+0.00000000e+00j,  5.80289386e-01+0.00000000e+00j,\n",
       "        5.77621811e-01+0.00000000e+00j,  5.66304803e-01+0.00000000e+00j,\n",
       "        5.58835785e-01+0.00000000e+00j,  5.52243904e-01+0.00000000e+00j,\n",
       "        5.41818057e-01+0.00000000e+00j,  5.37055316e-01+0.00000000e+00j,\n",
       "        5.30649564e-01+0.00000000e+00j,  5.32765027e-01+0.00000000e+00j,\n",
       "        5.21506364e-01+0.00000000e+00j,  5.14987527e-01+0.00000000e+00j,\n",
       "        4.97966181e-01+0.00000000e+00j,  4.90982731e-01+0.00000000e+00j,\n",
       "        4.79684352e-01+0.00000000e+00j,  4.76395386e-01+0.00000000e+00j,\n",
       "        4.70129836e-01+0.00000000e+00j,  4.67242029e-01+0.00000000e+00j,\n",
       "        4.54960267e-01+0.00000000e+00j,  4.53588200e-01+0.00000000e+00j,\n",
       "        4.41412814e-01+0.00000000e+00j,  4.38218609e-01+0.00000000e+00j,\n",
       "        4.35752033e-01+0.00000000e+00j,  4.19305712e-01+0.00000000e+00j,\n",
       "        4.16864638e-01+0.00000000e+00j,  4.14606976e-01+0.00000000e+00j,\n",
       "        4.08199068e-01+0.00000000e+00j,  4.03540404e-01+0.00000000e+00j,\n",
       "        3.91019015e-01+0.00000000e+00j,  3.98536837e-01+0.00000000e+00j,\n",
       "        3.56574656e-01+0.00000000e+00j,  3.76162081e-01+0.00000000e+00j,\n",
       "        3.66451974e-01+0.00000000e+00j,  3.71468176e-01+0.00000000e+00j,\n",
       "        3.69204038e-01+0.00000000e+00j,  3.85943953e-01+0.00000000e+00j,\n",
       "        3.58534171e-01+0.00000000e+00j,  3.50894458e-01+0.00000000e+00j,\n",
       "        3.47183662e-01+0.00000000e+00j,  3.38908283e-01+0.00000000e+00j,\n",
       "        3.34915449e-01+0.00000000e+00j,  3.26863288e-01+0.00000000e+00j,\n",
       "        3.22252711e-01+0.00000000e+00j,  3.18803246e-01+0.00000000e+00j,\n",
       "        3.14036919e-01+0.00000000e+00j,  3.04391464e-01+0.00000000e+00j,\n",
       "        3.01099071e-01+0.00000000e+00j,  2.94326954e-01+0.00000000e+00j,\n",
       "        2.90979084e-01+0.00000000e+00j,  2.86052342e-01+0.00000000e+00j,\n",
       "        1.81666971e-01+0.00000000e+00j,  1.93139415e-01+0.00000000e+00j,\n",
       "        2.75789250e-01+0.00000000e+00j,  2.78343276e-01+0.00000000e+00j,\n",
       "        2.71429049e-01+0.00000000e+00j,  1.99923549e-01+0.00000000e+00j,\n",
       "        2.14139316e-01+0.00000000e+00j,  2.24277961e-01+0.00000000e+00j,\n",
       "        2.15808970e-01+0.00000000e+00j,  2.31208069e-01+0.00000000e+00j,\n",
       "        2.60500129e-01+0.00000000e+00j,  2.52784123e-01+0.00000000e+00j,\n",
       "        2.35381335e-01+0.00000000e+00j,  2.66166323e-01+0.00000000e+00j,\n",
       "        2.40153340e-01+0.00000000e+00j,  2.45757279e-01+0.00000000e+00j,\n",
       "        2.47430200e-01+0.00000000e+00j,  2.42519921e-01+0.00000000e+00j,\n",
       "        2.62547818e-01+0.00000000e+00j,  2.13291376e-01+0.00000000e+00j,\n",
       "        5.50331891e-02+0.00000000e+00j,  2.04250236e-01+0.00000000e+00j,\n",
       "        1.99179512e-01+0.00000000e+00j,  1.90892142e-01+0.00000000e+00j,\n",
       "        1.87490317e-01+0.00000000e+00j,  1.84648387e-01+0.00000000e+00j,\n",
       "        6.72806764e-02+0.00000000e+00j,  6.88666248e-02+0.00000000e+00j,\n",
       "        7.22427966e-02+0.00000000e+00j,  1.69781537e-01+0.00000000e+00j,\n",
       "        1.74287557e-01+0.00000000e+00j,  1.68128678e-01+0.00000000e+00j,\n",
       "        1.59076696e-01+0.00000000e+00j,  1.53104470e-01+0.00000000e+00j,\n",
       "        1.45737423e-01+0.00000000e+00j,  1.57216377e-01+0.00000000e+00j,\n",
       "        1.39376863e-01+0.00000000e+00j,  7.96020106e-02+0.00000000e+00j,\n",
       "        8.19918559e-02+0.00000000e+00j,  9.10000188e-02+0.00000000e+00j,\n",
       "        8.34368901e-02+0.00000000e+00j,  9.54079409e-02+0.00000000e+00j,\n",
       "        1.35991075e-01+0.00000000e+00j,  1.19235943e-01+0.00000000e+00j,\n",
       "        1.17804703e-01+0.00000000e+00j,  1.00757290e-01+0.00000000e+00j,\n",
       "        1.11870081e-01+0.00000000e+00j,  1.10915698e-01+0.00000000e+00j,\n",
       "        1.04449274e-01+0.00000000e+00j,  1.05482236e-01+0.00000000e+00j,\n",
       "        1.31096502e-01+0.00000000e+00j,  1.27651748e-01+0.00000000e+00j,\n",
       "        1.26270090e-01+0.00000000e+00j,  1.30291815e-01+0.00000000e+00j,\n",
       "        4.23629522e-02+0.00000000e+00j,  4.76647934e-02+0.00000000e+00j,\n",
       "        5.17353095e-02+0.00000000e+00j,  6.31860784e-02+0.00000000e+00j,\n",
       "        6.33511122e-02+0.00000000e+00j,  8.52317269e-02+0.00000000e+00j,\n",
       "        8.78154782e-02+0.00000000e+00j,  1.06675909e-01+0.00000000e+00j,\n",
       "        1.54159294e-01+0.00000000e+00j,  1.72299410e-01+0.00000000e+00j,\n",
       "        1.74776802e-01+0.00000000e+00j,  5.09802962e-15+9.64795150e-16j,\n",
       "        5.09802962e-15-9.64795150e-16j, -5.83217231e-15+4.03711872e-16j,\n",
       "       -5.83217231e-15-4.03711872e-16j,  5.07637335e-15+0.00000000e+00j,\n",
       "        4.42444388e-15+8.19095710e-16j,  4.42444388e-15-8.19095710e-16j,\n",
       "        4.74506813e-15+0.00000000e+00j,  4.68112413e-15+3.94659011e-17j,\n",
       "        4.68112413e-15-3.94659011e-17j,  4.22227034e-15+1.31573508e-16j,\n",
       "        4.22227034e-15-1.31573508e-16j,  4.07674406e-15+0.00000000e+00j,\n",
       "       -3.57162972e-15+1.99209722e-15j, -3.57162972e-15-1.99209722e-15j,\n",
       "       -5.08544226e-15+0.00000000e+00j, -4.89076282e-15+2.69501512e-16j,\n",
       "       -4.89076282e-15-2.69501512e-16j, -4.34294771e-15+7.31788731e-16j,\n",
       "       -4.34294771e-15-7.31788731e-16j, -4.15050395e-15+4.50744150e-16j,\n",
       "       -4.15050395e-15-4.50744150e-16j, -4.23808815e-15+2.13246494e-16j,\n",
       "       -4.23808815e-15-2.13246494e-16j, -4.05187965e-15+0.00000000e+00j,\n",
       "       -3.82851210e-15+1.12277730e-15j, -3.82851210e-15-1.12277730e-15j,\n",
       "       -3.40823864e-15+1.06512724e-15j, -3.40823864e-15-1.06512724e-15j,\n",
       "       -3.86706464e-15+4.79044399e-16j, -3.86706464e-15-4.79044399e-16j,\n",
       "       -3.64264948e-15+6.69171346e-16j, -3.64264948e-15-6.69171346e-16j,\n",
       "       -3.74517799e-15+2.43516246e-16j, -3.74517799e-15-2.43516246e-16j,\n",
       "       -3.62181857e-15+0.00000000e+00j, -3.34078002e-15+4.50471648e-16j,\n",
       "       -3.34078002e-15-4.50471648e-16j, -3.27433771e-15+0.00000000e+00j,\n",
       "       -3.24305925e-15+1.98278144e-16j, -3.24305925e-15-1.98278144e-16j,\n",
       "        3.53279726e-15+1.23317787e-15j,  3.53279726e-15-1.23317787e-15j,\n",
       "        3.92277178e-15+6.07525774e-16j,  3.92277178e-15-6.07525774e-16j,\n",
       "        3.00405469e-15+1.11672631e-15j,  3.00405469e-15-1.11672631e-15j,\n",
       "        3.63427166e-15+6.36644437e-16j,  3.63427166e-15-6.36644437e-16j,\n",
       "        3.87836377e-15+2.30841025e-16j,  3.87836377e-15-2.30841025e-16j,\n",
       "        2.94710455e-15+8.27697517e-16j,  2.94710455e-15-8.27697517e-16j,\n",
       "        3.71416653e-15+0.00000000e+00j,  3.29531644e-15+4.93523234e-16j,\n",
       "        3.29531644e-15-4.93523234e-16j,  3.49657099e-15+2.02160180e-16j,\n",
       "        3.49657099e-15-2.02160180e-16j,  3.42856417e-15+0.00000000e+00j,\n",
       "        3.34036193e-15+1.93126725e-16j,  3.34036193e-15-1.93126725e-16j,\n",
       "       -2.74291125e-15+9.88740917e-16j, -2.74291125e-15-9.88740917e-16j,\n",
       "       -2.99984312e-15+5.85272510e-16j, -2.99984312e-15-5.85272510e-16j,\n",
       "       -1.70391480e-15+1.75268231e-15j, -1.70391480e-15-1.75268231e-15j,\n",
       "       -3.01813636e-15+1.28252511e-16j, -3.01813636e-15-1.28252511e-16j,\n",
       "       -2.91776012e-15+0.00000000e+00j,  1.37530235e-15+1.96871337e-15j,\n",
       "        1.37530235e-15-1.96871337e-15j,  2.44829193e-15+1.02579419e-15j,\n",
       "        2.44829193e-15-1.02579419e-15j,  2.99887193e-15+5.45414048e-16j,\n",
       "        2.99887193e-15-5.45414048e-16j,  2.65345406e-15+7.72033281e-16j,\n",
       "        2.65345406e-15-7.72033281e-16j,  2.89730452e-15+2.15295446e-16j,\n",
       "        2.89730452e-15-2.15295446e-16j,  3.00913487e-15+0.00000000e+00j,\n",
       "        2.90873665e-15+0.00000000e+00j,  1.98450255e-15+1.17661980e-15j,\n",
       "        1.98450255e-15-1.17661980e-15j,  2.61364587e-15+1.69701598e-16j,\n",
       "        2.61364587e-15-1.69701598e-16j, -9.01035777e-16+1.88634802e-15j,\n",
       "       -9.01035777e-16-1.88634802e-15j, -1.48276472e-15+1.45476065e-15j,\n",
       "       -1.48276472e-15-1.45476065e-15j, -2.58615881e-15+6.81335085e-16j,\n",
       "       -2.58615881e-15-6.81335085e-16j, -2.66082070e-15+5.10182739e-16j,\n",
       "       -2.66082070e-15-5.10182739e-16j, -2.26778367e-15+7.75188849e-16j,\n",
       "       -2.26778367e-15-7.75188849e-16j, -2.70519278e-15+0.00000000e+00j,\n",
       "       -2.60403800e-15+8.64649617e-17j, -2.60403800e-15-8.64649617e-17j,\n",
       "        4.25668184e-16+1.67761686e-15j,  4.25668184e-16-1.67761686e-15j,\n",
       "        1.94598117e-15+9.76751122e-16j,  1.94598117e-15-9.76751122e-16j,\n",
       "        2.38186928e-15+3.64309766e-16j,  2.38186928e-15-3.64309766e-16j,\n",
       "        2.30299760e-15+2.10695465e-16j,  2.30299760e-15-2.10695465e-16j,\n",
       "        2.41627019e-15+0.00000000e+00j,  2.32693912e-15+0.00000000e+00j,\n",
       "       -2.04448324e-15+8.74174285e-16j, -2.04448324e-15-8.74174285e-16j,\n",
       "       -2.30604601e-15+4.92081502e-16j, -2.30604601e-15-4.92081502e-16j,\n",
       "       -2.31012684e-15+3.91652723e-16j, -2.31012684e-15-3.91652723e-16j,\n",
       "       -2.30420389e-15+7.11698558e-17j, -2.30420389e-15-7.11698558e-17j,\n",
       "        1.42800556e-15+1.00189813e-15j,  1.42800556e-15-1.00189813e-15j,\n",
       "        8.95483923e-16+1.15029410e-15j,  8.95483923e-16-1.15029410e-15j,\n",
       "        1.97868894e-15+4.83513863e-16j,  1.97868894e-15-4.83513863e-16j,\n",
       "        1.97006186e-15+3.87343943e-16j,  1.97006186e-15-3.87343943e-16j,\n",
       "        2.05029090e-15+0.00000000e+00j,  1.44355468e-15+8.45671517e-16j,\n",
       "        1.44355468e-15-8.45671517e-16j,  1.70598218e-15+5.18213947e-16j,\n",
       "        1.70598218e-15-5.18213947e-16j, -1.20120956e-15+9.71543409e-16j,\n",
       "       -1.20120956e-15-9.71543409e-16j, -1.68065024e-15+7.29562431e-16j,\n",
       "       -1.68065024e-15-7.29562431e-16j, -1.88892508e-15+4.62401777e-16j,\n",
       "       -1.88892508e-15-4.62401777e-16j, -1.82563283e-15+4.66943012e-16j,\n",
       "       -1.82563283e-15-4.66943012e-16j, -2.19867875e-15+0.00000000e+00j,\n",
       "       -2.08715778e-15+0.00000000e+00j, -1.96516413e-15+0.00000000e+00j,\n",
       "        1.76127983e-15+1.63411733e-16j,  1.76127983e-15-1.63411733e-16j,\n",
       "        1.41937389e-15+6.25620901e-16j,  1.41937389e-15-6.25620901e-16j,\n",
       "        2.21469607e-16+1.10344216e-15j,  2.21469607e-16-1.10344216e-15j,\n",
       "        1.04025784e-15+7.99392956e-16j,  1.04025784e-15-7.99392956e-16j,\n",
       "        9.19553106e-16+7.89952641e-16j,  9.19553106e-16-7.89952641e-16j,\n",
       "       -9.97958492e-16+9.34528501e-16j, -9.97958492e-16-9.34528501e-16j,\n",
       "       -3.69316442e-16+9.61113590e-16j, -3.69316442e-16-9.61113590e-16j,\n",
       "       -7.46146974e-16+8.72550324e-16j, -7.46146974e-16-8.72550324e-16j,\n",
       "       -1.76551068e-16+8.96964919e-16j, -1.76551068e-16-8.96964919e-16j,\n",
       "       -1.76933918e-15+0.00000000e+00j, -1.55415508e-15+3.89819650e-16j,\n",
       "       -1.55415508e-15-3.89819650e-16j, -1.39649776e-15+5.07910867e-16j,\n",
       "       -1.39649776e-15-5.07910867e-16j, -1.50032192e-15+2.85866571e-16j,\n",
       "       -1.50032192e-15-2.85866571e-16j, -1.21821577e-15+5.01559328e-16j,\n",
       "       -1.21821577e-15-5.01559328e-16j, -7.95234657e-16+6.91437094e-16j,\n",
       "       -7.95234657e-16-6.91437094e-16j,  5.35509641e-16+7.40246608e-16j,\n",
       "        5.35509641e-16-7.40246608e-16j,  8.27999771e-17+7.43247271e-16j,\n",
       "        8.27999771e-17-7.43247271e-16j,  1.61252422e-15+2.41730380e-16j,\n",
       "        1.61252422e-15-2.41730380e-16j,  1.35943491e-15+3.66889825e-16j,\n",
       "        1.35943491e-15-3.66889825e-16j,  1.62638674e-15+0.00000000e+00j,\n",
       "        1.54140333e-15+1.36517778e-16j,  1.54140333e-15-1.36517778e-16j,\n",
       "        1.40129831e-15+2.49413338e-16j,  1.40129831e-15-2.49413338e-16j,\n",
       "        1.03849085e-15+4.11207899e-16j,  1.03849085e-15-4.11207899e-16j,\n",
       "       -1.61595583e-15+0.00000000e+00j, -1.03919067e-16+6.32213969e-16j,\n",
       "       -1.03919067e-16-6.32213969e-16j, -1.16481044e-15+3.74903768e-16j,\n",
       "       -1.16481044e-15-3.74903768e-16j, -8.61825765e-16+4.56153053e-16j,\n",
       "       -8.61825765e-16-4.56153053e-16j, -1.41485017e-15+0.00000000e+00j,\n",
       "       -4.48517535e-16+5.70278964e-16j, -4.48517535e-16-5.70278964e-16j,\n",
       "        8.49191947e-16+3.74954906e-16j,  8.49191947e-16-3.74954906e-16j,\n",
       "        2.11074458e-16+5.08482290e-16j,  2.11074458e-16-5.08482290e-16j,\n",
       "       -5.06587609e-16+4.85325657e-16j, -5.06587609e-16-4.85325657e-16j,\n",
       "        1.27380844e-15+0.00000000e+00j, -1.24832270e-15+3.59184944e-17j,\n",
       "       -1.24832270e-15-3.59184944e-17j,  1.03532063e-15+9.35237283e-17j,\n",
       "        1.03532063e-15-9.35237283e-17j, -7.90046817e-17+3.98106350e-16j,\n",
       "       -7.90046817e-17-3.98106350e-16j,  8.39865034e-16+1.29721171e-16j,\n",
       "        8.39865034e-16-1.29721171e-16j,  6.78760288e-16+2.34920314e-16j,\n",
       "        6.78760288e-16-2.34920314e-16j,  2.03230842e-16+4.55644939e-16j,\n",
       "        2.03230842e-16-4.55644939e-16j,  3.82815976e-16+3.16237446e-16j,\n",
       "        3.82815976e-16-3.16237446e-16j, -9.95149925e-16+1.25103487e-16j,\n",
       "       -9.95149925e-16-1.25103487e-16j, -8.30651559e-16+2.62066057e-16j,\n",
       "       -8.30651559e-16-2.62066057e-16j, -9.54596884e-16+0.00000000e+00j,\n",
       "       -7.14842333e-16+1.74901787e-16j, -7.14842333e-16-1.74901787e-16j,\n",
       "       -4.28365751e-16+1.67415168e-16j, -4.28365751e-16-1.67415168e-16j,\n",
       "       -6.96194291e-16+0.00000000e+00j, -2.47980947e-16+1.82374572e-16j,\n",
       "       -2.47980947e-16-1.82374572e-16j, -1.39931288e-16+1.09503470e-16j,\n",
       "       -1.39931288e-16-1.09503470e-16j,  1.75968327e-16+1.74904098e-16j,\n",
       "        1.75968327e-16-1.74904098e-16j,  4.55245535e-16+9.86474854e-17j,\n",
       "        4.55245535e-16-9.86474854e-17j,  1.11435830e-16+1.15040458e-16j,\n",
       "        1.11435830e-16-1.15040458e-16j,  4.63221600e-16+0.00000000e+00j])"
      ]
     },
     "execution_count": 170,
     "metadata": {},
     "output_type": "execute_result"
    }
   ],
   "source": [
    "# code for question 24\n",
    "\n",
    "eigvals_corr, eigvecs_corr = npla.eig(sp500_corr)\n",
    "eigvals_corr"
   ]
  },
  {
   "cell_type": "markdown",
   "metadata": {
    "id": "tT1-jTDJo3MV"
   },
   "source": [
    "**ANSWER FOR QUESTION 24**: \n",
    "\n",
    "The square root of the eigenvalues of AA^T is the singular values. "
   ]
  },
  {
   "cell_type": "markdown",
   "metadata": {
    "id": "YFoaTwa1o3MW"
   },
   "source": [
    "### 25. What is the sum of the eigenvalues? Justify why the sum turns out to be what it is."
   ]
  },
  {
   "cell_type": "code",
   "execution_count": 171,
   "metadata": {
    "id": "6AC6PG2fo3MX"
   },
   "outputs": [
    {
     "data": {
      "text/plain": [
       "(488.00000000000085-2.662405555120915e-30j)"
      ]
     },
     "execution_count": 171,
     "metadata": {},
     "output_type": "execute_result"
    }
   ],
   "source": [
    "# code for question 25\n",
    "\n",
    "eigvals_corr.sum()"
   ]
  },
  {
   "cell_type": "markdown",
   "metadata": {
    "id": "NTiJh4_jo3MX"
   },
   "source": [
    "**ANSWER FOR QUESTION 25**: The sum of the eigenvalues is approximately 488. Since this is a symmetric matrix, the sum of the eigenvalues is the trace of the matrix with 1s all along the diagonal (count of stocks = 488)."
   ]
  },
  {
   "cell_type": "markdown",
   "metadata": {
    "id": "0p0Fvoeco3MY"
   },
   "source": [
    "### 26. How are the eigenvectors of the correlation matrix `eigvecs_corr` connected to the left singular vectors of the standardized returns matrix in Question 22? Here you are expected to derive the relation theoretically."
   ]
  },
  {
   "cell_type": "markdown",
   "metadata": {
    "id": "-oH6uQIso3MY"
   },
   "source": [
    "**ANSWER FOR QUESTION 26**: \n",
    "\n",
    "Let C = XE(X^T), C = A(A^T) where A = US(V^T)\n",
    "\n",
    "C = U(S^2)(U^T)\n",
    "\n",
    "From Q24: e-value = (singular value)^2 , so E = S^2\n",
    "\n",
    "C = XE(X^T) = U(S^2)(U^T)\n",
    "\n",
    "Therefore, X = U. The eigenvectors of the correlation matrix are equal to the left singular vectors."
   ]
  },
  {
   "cell_type": "code",
   "execution_count": null,
   "metadata": {
    "id": "vB50R5b0o3MZ"
   },
   "outputs": [],
   "source": []
  }
 ],
 "metadata": {
  "colab": {
   "collapsed_sections": [],
   "name": "LASTNAME_FIRSTNAME_LinearAlgebra_project.ipynb",
   "provenance": []
  },
  "kernelspec": {
   "display_name": "Python 3 (ipykernel)",
   "language": "python",
   "name": "python3"
  },
  "language_info": {
   "codemirror_mode": {
    "name": "ipython",
    "version": 3
   },
   "file_extension": ".py",
   "mimetype": "text/x-python",
   "name": "python",
   "nbconvert_exporter": "python",
   "pygments_lexer": "ipython3",
   "version": "3.9.7"
  }
 },
 "nbformat": 4,
 "nbformat_minor": 1
}
